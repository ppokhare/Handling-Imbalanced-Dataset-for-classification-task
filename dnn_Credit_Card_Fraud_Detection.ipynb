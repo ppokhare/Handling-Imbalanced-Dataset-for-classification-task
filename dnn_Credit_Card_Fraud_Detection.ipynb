{
  "nbformat": 4,
  "nbformat_minor": 0,
  "metadata": {
    "colab": {
      "name": "dnn_Credit_Card_Fraud_Detection.ipynb",
      "provenance": [],
      "collapsed_sections": []
    },
    "kernelspec": {
      "name": "python3",
      "display_name": "Python 3"
    },
    "language_info": {
      "name": "python"
    },
    "accelerator": "GPU"
  },
  "cells": [
    {
      "cell_type": "code",
      "metadata": {
        "colab": {
          "base_uri": "https://localhost:8080/"
        },
        "id": "o7wcN4xll73m",
        "outputId": "85f66642-3847-457e-802d-95dd41fa2831"
      },
      "source": [
        "from google.colab import drive\n",
        "drive.mount('/content/drive')"
      ],
      "execution_count": 1,
      "outputs": [
        {
          "output_type": "stream",
          "text": [
            "Drive already mounted at /content/drive; to attempt to forcibly remount, call drive.mount(\"/content/drive\", force_remount=True).\n"
          ],
          "name": "stdout"
        }
      ]
    },
    {
      "cell_type": "code",
      "metadata": {
        "id": "5iZ-Cqm0mSkS"
      },
      "source": [
        "import numpy as np\n",
        "import pandas as pd\n",
        "import seaborn as sns\n",
        "import matplotlib.pyplot as plt\n",
        "\n",
        "from sklearn.preprocessing import RobustScaler\n",
        "from sklearn.model_selection import train_test_split\n",
        "from sklearn.metrics import confusion_matrix, f1_score, accuracy_score\n",
        "\n",
        "import tensorflow as tf\n",
        "from tensorflow.keras import backend as K"
      ],
      "execution_count": 2,
      "outputs": []
    },
    {
      "cell_type": "markdown",
      "metadata": {
        "id": "hsstEDJZbJ2p"
      },
      "source": [
        "## Data Preprocessing"
      ]
    },
    {
      "cell_type": "code",
      "metadata": {
        "colab": {
          "base_uri": "https://localhost:8080/",
          "height": 451
        },
        "id": "778h2xAcmTYz",
        "outputId": "6a11244e-28d1-4dc8-a360-7fcf085ce25c"
      },
      "source": [
        "df = pd.read_csv(\"/content/drive/MyDrive/Colab Notebooks/creditCardFraudDetection/creditcard.csv\")\n",
        "print(df.head())\n",
        "sns.countplot(x=df.Class).set_title('Very unbalanced Class')"
      ],
      "execution_count": 3,
      "outputs": [
        {
          "output_type": "stream",
          "text": [
            "   Time        V1        V2        V3  ...       V27       V28  Amount  Class\n",
            "0   0.0 -1.359807 -0.072781  2.536347  ...  0.133558 -0.021053  149.62      0\n",
            "1   0.0  1.191857  0.266151  0.166480  ... -0.008983  0.014724    2.69      0\n",
            "2   1.0 -1.358354 -1.340163  1.773209  ... -0.055353 -0.059752  378.66      0\n",
            "3   1.0 -0.966272 -0.185226  1.792993  ...  0.062723  0.061458  123.50      0\n",
            "4   2.0 -1.158233  0.877737  1.548718  ...  0.219422  0.215153   69.99      0\n",
            "\n",
            "[5 rows x 31 columns]\n"
          ],
          "name": "stdout"
        },
        {
          "output_type": "execute_result",
          "data": {
            "text/plain": [
              "Text(0.5, 1.0, 'Very unbalanced Class')"
            ]
          },
          "metadata": {
            "tags": []
          },
          "execution_count": 3
        },
        {
          "output_type": "display_data",
          "data": {
            "image/png": "[encoded data removed]",
            "text/plain": [
              "<Figure size 432x288 with 1 Axes>"
            ]
          },
          "metadata": {
            "tags": [],
            "needs_background": "light"
          }
        }
      ]
    },
    {
      "cell_type": "markdown",
      "metadata": {
        "id": "fbpDe9_1gim-"
      },
      "source": [
        "Use RobustScaler which is less prone to outliers to normalized Amount and remove Time because its not clear why we need that."
      ]
    },
    {
      "cell_type": "code",
      "metadata": {
        "colab": {
          "base_uri": "https://localhost:8080/",
          "height": 226
        },
        "id": "5A8FSEQ6eKVK",
        "outputId": "f4bca2ed-6d95-40b0-f341-f19f8af1dc90"
      },
      "source": [
        "df['Scaled_Amount'] = RobustScaler().fit_transform(df['Amount'].values.reshape(-1,1))\n",
        "df.drop(['Time','Amount'], axis=1,  inplace = True)\n",
        "df.head()"
      ],
      "execution_count": 4,
      "outputs": [
        {
          "output_type": "execute_result",
          "data": {
            "text/html": [
              "<div>\n",
              "<style scoped>\n",
              "    .dataframe tbody tr th:only-of-type {\n",
              "        vertical-align: middle;\n",
              "    }\n",
              "\n",
              "    .dataframe tbody tr th {\n",
              "        vertical-align: top;\n",
              "    }\n",
              "\n",
              "    .dataframe thead th {\n",
              "        text-align: right;\n",
              "    }\n",
              "</style>\n",
              "<table border=\"1\" class=\"dataframe\">\n",
              "  <thead>\n",
              "    <tr style=\"text-align: right;\">\n",
              "      <th></th>\n",
              "      <th>V1</th>\n",
              "      <th>V2</th>\n",
              "      <th>V3</th>\n",
              "      <th>V4</th>\n",
              "      <th>V5</th>\n",
              "      <th>V6</th>\n",
              "      <th>V7</th>\n",
              "      <th>V8</th>\n",
              "      <th>V9</th>\n",
              "      <th>V10</th>\n",
              "      <th>V11</th>\n",
              "      <th>V12</th>\n",
              "      <th>V13</th>\n",
              "      <th>V14</th>\n",
              "      <th>V15</th>\n",
              "      <th>V16</th>\n",
              "      <th>V17</th>\n",
              "      <th>V18</th>\n",
              "      <th>V19</th>\n",
              "      <th>V20</th>\n",
              "      <th>V21</th>\n",
              "      <th>V22</th>\n",
              "      <th>V23</th>\n",
              "      <th>V24</th>\n",
              "      <th>V25</th>\n",
              "      <th>V26</th>\n",
              "      <th>V27</th>\n",
              "      <th>V28</th>\n",
              "      <th>Class</th>\n",
              "      <th>Scaled_Amount</th>\n",
              "    </tr>\n",
              "  </thead>\n",
              "  <tbody>\n",
              "    <tr>\n",
              "      <th>0</th>\n",
              "      <td>-1.359807</td>\n",
              "      <td>-0.072781</td>\n",
              "      <td>2.536347</td>\n",
              "      <td>1.378155</td>\n",
              "      <td>-0.338321</td>\n",
              "      <td>0.462388</td>\n",
              "      <td>0.239599</td>\n",
              "      <td>0.098698</td>\n",
              "      <td>0.363787</td>\n",
              "      <td>0.090794</td>\n",
              "      <td>-0.551600</td>\n",
              "      <td>-0.617801</td>\n",
              "      <td>-0.991390</td>\n",
              "      <td>-0.311169</td>\n",
              "      <td>1.468177</td>\n",
              "      <td>-0.470401</td>\n",
              "      <td>0.207971</td>\n",
              "      <td>0.025791</td>\n",
              "      <td>0.403993</td>\n",
              "      <td>0.251412</td>\n",
              "      <td>-0.018307</td>\n",
              "      <td>0.277838</td>\n",
              "      <td>-0.110474</td>\n",
              "      <td>0.066928</td>\n",
              "      <td>0.128539</td>\n",
              "      <td>-0.189115</td>\n",
              "      <td>0.133558</td>\n",
              "      <td>-0.021053</td>\n",
              "      <td>0</td>\n",
              "      <td>1.783274</td>\n",
              "    </tr>\n",
              "    <tr>\n",
              "      <th>1</th>\n",
              "      <td>1.191857</td>\n",
              "      <td>0.266151</td>\n",
              "      <td>0.166480</td>\n",
              "      <td>0.448154</td>\n",
              "      <td>0.060018</td>\n",
              "      <td>-0.082361</td>\n",
              "      <td>-0.078803</td>\n",
              "      <td>0.085102</td>\n",
              "      <td>-0.255425</td>\n",
              "      <td>-0.166974</td>\n",
              "      <td>1.612727</td>\n",
              "      <td>1.065235</td>\n",
              "      <td>0.489095</td>\n",
              "      <td>-0.143772</td>\n",
              "      <td>0.635558</td>\n",
              "      <td>0.463917</td>\n",
              "      <td>-0.114805</td>\n",
              "      <td>-0.183361</td>\n",
              "      <td>-0.145783</td>\n",
              "      <td>-0.069083</td>\n",
              "      <td>-0.225775</td>\n",
              "      <td>-0.638672</td>\n",
              "      <td>0.101288</td>\n",
              "      <td>-0.339846</td>\n",
              "      <td>0.167170</td>\n",
              "      <td>0.125895</td>\n",
              "      <td>-0.008983</td>\n",
              "      <td>0.014724</td>\n",
              "      <td>0</td>\n",
              "      <td>-0.269825</td>\n",
              "    </tr>\n",
              "    <tr>\n",
              "      <th>2</th>\n",
              "      <td>-1.358354</td>\n",
              "      <td>-1.340163</td>\n",
              "      <td>1.773209</td>\n",
              "      <td>0.379780</td>\n",
              "      <td>-0.503198</td>\n",
              "      <td>1.800499</td>\n",
              "      <td>0.791461</td>\n",
              "      <td>0.247676</td>\n",
              "      <td>-1.514654</td>\n",
              "      <td>0.207643</td>\n",
              "      <td>0.624501</td>\n",
              "      <td>0.066084</td>\n",
              "      <td>0.717293</td>\n",
              "      <td>-0.165946</td>\n",
              "      <td>2.345865</td>\n",
              "      <td>-2.890083</td>\n",
              "      <td>1.109969</td>\n",
              "      <td>-0.121359</td>\n",
              "      <td>-2.261857</td>\n",
              "      <td>0.524980</td>\n",
              "      <td>0.247998</td>\n",
              "      <td>0.771679</td>\n",
              "      <td>0.909412</td>\n",
              "      <td>-0.689281</td>\n",
              "      <td>-0.327642</td>\n",
              "      <td>-0.139097</td>\n",
              "      <td>-0.055353</td>\n",
              "      <td>-0.059752</td>\n",
              "      <td>0</td>\n",
              "      <td>4.983721</td>\n",
              "    </tr>\n",
              "    <tr>\n",
              "      <th>3</th>\n",
              "      <td>-0.966272</td>\n",
              "      <td>-0.185226</td>\n",
              "      <td>1.792993</td>\n",
              "      <td>-0.863291</td>\n",
              "      <td>-0.010309</td>\n",
              "      <td>1.247203</td>\n",
              "      <td>0.237609</td>\n",
              "      <td>0.377436</td>\n",
              "      <td>-1.387024</td>\n",
              "      <td>-0.054952</td>\n",
              "      <td>-0.226487</td>\n",
              "      <td>0.178228</td>\n",
              "      <td>0.507757</td>\n",
              "      <td>-0.287924</td>\n",
              "      <td>-0.631418</td>\n",
              "      <td>-1.059647</td>\n",
              "      <td>-0.684093</td>\n",
              "      <td>1.965775</td>\n",
              "      <td>-1.232622</td>\n",
              "      <td>-0.208038</td>\n",
              "      <td>-0.108300</td>\n",
              "      <td>0.005274</td>\n",
              "      <td>-0.190321</td>\n",
              "      <td>-1.175575</td>\n",
              "      <td>0.647376</td>\n",
              "      <td>-0.221929</td>\n",
              "      <td>0.062723</td>\n",
              "      <td>0.061458</td>\n",
              "      <td>0</td>\n",
              "      <td>1.418291</td>\n",
              "    </tr>\n",
              "    <tr>\n",
              "      <th>4</th>\n",
              "      <td>-1.158233</td>\n",
              "      <td>0.877737</td>\n",
              "      <td>1.548718</td>\n",
              "      <td>0.403034</td>\n",
              "      <td>-0.407193</td>\n",
              "      <td>0.095921</td>\n",
              "      <td>0.592941</td>\n",
              "      <td>-0.270533</td>\n",
              "      <td>0.817739</td>\n",
              "      <td>0.753074</td>\n",
              "      <td>-0.822843</td>\n",
              "      <td>0.538196</td>\n",
              "      <td>1.345852</td>\n",
              "      <td>-1.119670</td>\n",
              "      <td>0.175121</td>\n",
              "      <td>-0.451449</td>\n",
              "      <td>-0.237033</td>\n",
              "      <td>-0.038195</td>\n",
              "      <td>0.803487</td>\n",
              "      <td>0.408542</td>\n",
              "      <td>-0.009431</td>\n",
              "      <td>0.798278</td>\n",
              "      <td>-0.137458</td>\n",
              "      <td>0.141267</td>\n",
              "      <td>-0.206010</td>\n",
              "      <td>0.502292</td>\n",
              "      <td>0.219422</td>\n",
              "      <td>0.215153</td>\n",
              "      <td>0</td>\n",
              "      <td>0.670579</td>\n",
              "    </tr>\n",
              "  </tbody>\n",
              "</table>\n",
              "</div>"
            ],
            "text/plain": [
              "         V1        V2        V3  ...       V28  Class  Scaled_Amount\n",
              "0 -1.359807 -0.072781  2.536347  ... -0.021053      0       1.783274\n",
              "1  1.191857  0.266151  0.166480  ...  0.014724      0      -0.269825\n",
              "2 -1.358354 -1.340163  1.773209  ... -0.059752      0       4.983721\n",
              "3 -0.966272 -0.185226  1.792993  ...  0.061458      0       1.418291\n",
              "4 -1.158233  0.877737  1.548718  ...  0.215153      0       0.670579\n",
              "\n",
              "[5 rows x 30 columns]"
            ]
          },
          "metadata": {
            "tags": []
          },
          "execution_count": 4
        }
      ]
    },
    {
      "cell_type": "markdown",
      "metadata": {
        "id": "Ryka3zFm18uT"
      },
      "source": [
        "Strafied train, test, val split so that there are equal numbers of fraud \n",
        "cases in each splits."
      ]
    },
    {
      "cell_type": "code",
      "metadata": {
        "colab": {
          "base_uri": "https://localhost:8080/"
        },
        "id": "-Yo8s25cf_j9",
        "outputId": "20820f96-d711-4feb-a97d-1a1a572ef764"
      },
      "source": [
        "X = df.drop(\"Class\",axis = 1)\n",
        "y = df[\"Class\"]\n",
        "X_train, X_test, y_train, y_test = train_test_split(X, y, test_size = 0.1, \n",
        "                                                    stratify = y)\n",
        "\n",
        "X_train, X_val, y_train, y_val = train_test_split(X_train, y_train,\n",
        "                                                  test_size = 0.1, \n",
        "                                                  stratify = y_train)\n",
        "\n",
        "print(\"X:\", X.shape, y.shape )\n",
        "print(\"Train:\", X_train.shape, y_train.shape )\n",
        "print(\"Test:\", X_test.shape, y_test.shape )\n",
        "print(\"Val:\", X_val.shape, y_val.shape )\n",
        "\n",
        "print(\"{:0.3f} % of fraud case in dataframe.\".format(((y==1).astype(int).sum())/((y==0).astype(int).sum())*100) )\n",
        "print(\"{:0.3f} % of fraud case in Train split.\".format(((y_train==1).astype(int).sum())/((y_train==0).astype(int).sum())*100) )\n",
        "print(\"{:0.3f} % of fraud case in Val split.\".format(((y_val==1).astype(int).sum())/((y_val==0).astype(int).sum())*100) )\n",
        "print(\"{:0.3f} % of fraud case in Test split.\".format(((y_test==1).astype(int).sum())/((y_test==0).astype(int).sum())*100) )"
      ],
      "execution_count": 5,
      "outputs": [
        {
          "output_type": "stream",
          "text": [
            "X: (284807, 29) (284807,)\n",
            "Train: (230693, 29) (230693,)\n",
            "Test: (28481, 29) (28481,)\n",
            "Val: (25633, 29) (25633,)\n",
            "0.173 % of fraud case in dataframe.\n",
            "0.173 % of fraud case in Train split.\n",
            "0.172 % of fraud case in Val split.\n",
            "0.172 % of fraud case in Test split.\n"
          ],
          "name": "stdout"
        }
      ]
    },
    {
      "cell_type": "code",
      "metadata": {
        "id": "831VcS28mYbC"
      },
      "source": [
        "def focal_loss(alpha, gamma):\n",
        "  \"\"\"Focal Loss Functiion: FL(p_t) = -alpha * (1 - p_t)**gamma * log(p_t)\n",
        "  Put more emphasis on fraudulent cases incompare to nonfraudulent cases during\n",
        "  training.\"\"\"\n",
        "  def calc_focal_loss(y_true, y_pred):\n",
        "    y_pred = tf.convert_to_tensor(y_pred)\n",
        "    y_true = tf.cast(y_true , tf.float32 )\n",
        "\n",
        "    p_t = (y_true*y_pred) + ((1-y_true)*(1-y_pred))\n",
        "    loss = (alpha*y_true+(1.0-alpha)*(1.0-y_true))*tf.pow((1.0-p_t),gamma)*-K.log(p_t+K.epsilon())\n",
        "    return tf.reduce_sum(loss)\n",
        "  return calc_focal_loss"
      ],
      "execution_count": 6,
      "outputs": []
    },
    {
      "cell_type": "code",
      "metadata": {
        "id": "Bpxb_yMomTfi",
        "colab": {
          "base_uri": "https://localhost:8080/"
        },
        "outputId": "8d142f52-17a1-4220-92c6-77d392a4d825"
      },
      "source": [
        "model = tf.keras.Sequential([\n",
        "  tf.keras.layers.Dense(512, \n",
        "                        input_shape=(29,),\n",
        "                        kernel_initializer=tf.keras.initializers.HeNormal(), \n",
        "                        bias_initializer=tf.keras.initializers.zeros(), \n",
        "                        activation=tf.nn.leaky_relu),\n",
        "\n",
        "  tf.keras.layers.Dense(256, \n",
        "                        kernel_initializer=tf.keras.initializers.HeNormal(), \n",
        "                        bias_initializer=tf.keras.initializers.zeros(), \n",
        "                        activation=tf.nn.leaky_relu),\n",
        "  tf.keras.layers.Dropout(0.5),\n",
        "  tf.keras.layers.Dense(128, \n",
        "                        kernel_initializer=tf.keras.initializers.HeNormal(), \n",
        "                        bias_initializer=tf.keras.initializers.zeros(), \n",
        "                        activation=tf.nn.leaky_relu),\n",
        "  tf.keras.layers.Dense(64, \n",
        "                        kernel_initializer=tf.keras.initializers.HeNormal(), \n",
        "                        bias_initializer=tf.keras.initializers.zeros(), \n",
        "                        activation=tf.nn.leaky_relu),\n",
        "  tf.keras.layers.Dropout(0.3),\n",
        "  tf.keras.layers.Dense(32, \n",
        "                        kernel_initializer=tf.keras.initializers.HeNormal(), \n",
        "                        bias_initializer=tf.keras.initializers.zeros(), \n",
        "                        activation=tf.nn.leaky_relu),\n",
        "  tf.keras.layers.Dense(1, \n",
        "                        kernel_initializer=tf.keras.initializers.HeNormal(), \n",
        "                        bias_initializer=tf.keras.initializers.Constant(1),\n",
        "                        activation=tf.nn.sigmoid)])\n",
        "\n",
        "model.compile(optimizer = tf.keras.optimizers.Adam(learning_rate=1e-4), \n",
        "              loss = focal_loss(alpha=0.25, gamma=3.0),\n",
        "              metrics=[tf.keras.metrics.AUC(curve=\"PR\"),#Precision-Recall-Curve\n",
        "                       tf.keras.metrics.Precision(),\n",
        "                       tf.keras.metrics.Recall()])\n",
        "\n",
        "callbacks = [tf.keras.callbacks.EarlyStopping(monitor='val_loss', mode='auto',\n",
        "                                              patience=20, min_delta=0.0001,\n",
        "                                               restore_best_weights=True),\n",
        "             tf.keras.callbacks.ReduceLROnPlateau(monitor='val_loss',factor=0.1,\n",
        "                                                  patience=20,min_delta=0.00001,\n",
        "                                                  verbose=1,mode='auto')]\n",
        "\n",
        "model.summary()"
      ],
      "execution_count": 7,
      "outputs": [
        {
          "output_type": "stream",
          "text": [
            "Model: \"sequential\"\n",
            "_________________________________________________________________\n",
            "Layer (type)                 Output Shape              Param #   \n",
            "=================================================================\n",
            "dense (Dense)                (None, 512)               15360     \n",
            "_________________________________________________________________\n",
            "dense_1 (Dense)              (None, 256)               131328    \n",
            "_________________________________________________________________\n",
            "dropout (Dropout)            (None, 256)               0         \n",
            "_________________________________________________________________\n",
            "dense_2 (Dense)              (None, 128)               32896     \n",
            "_________________________________________________________________\n",
            "dense_3 (Dense)              (None, 64)                8256      \n",
            "_________________________________________________________________\n",
            "dropout_1 (Dropout)          (None, 64)                0         \n",
            "_________________________________________________________________\n",
            "dense_4 (Dense)              (None, 32)                2080      \n",
            "_________________________________________________________________\n",
            "dense_5 (Dense)              (None, 1)                 33        \n",
            "=================================================================\n",
            "Total params: 189,953\n",
            "Trainable params: 189,953\n",
            "Non-trainable params: 0\n",
            "_________________________________________________________________\n"
          ],
          "name": "stdout"
        }
      ]
    },
    {
      "cell_type": "code",
      "metadata": {
        "colab": {
          "base_uri": "https://localhost:8080/"
        },
        "id": "R2fR8Y2zbL11",
        "outputId": "82d8e55a-76b6-4993-9eda-885fd93745aa"
      },
      "source": [
        "\"\"\"Note that batch_size is unusualy high becasue we want to make sure  in each\n",
        "batch there are some Fradulant cases to learn.\"\"\"\n",
        "\n",
        "train_history = model.fit(X_train, y_train, batch_size=1024, epochs=500,\n",
        "                          shuffle= True, validation_data=(X_val,y_val),\n",
        "                          callbacks=callbacks)"
      ],
      "execution_count": 8,
      "outputs": [
        {
          "output_type": "stream",
          "text": [
            "Epoch 1/500\n",
            "226/226 [==============================] - 4s 9ms/step - loss: 100.2849 - auc: 0.0014 - precision: 2.7537e-04 - recall: 0.0276 - val_loss: 6.4243 - val_auc: 0.0010 - val_precision: 0.0000e+00 - val_recall: 0.0000e+00\n",
            "Epoch 2/500\n",
            "226/226 [==============================] - 1s 5ms/step - loss: 6.7516 - auc: 0.0021 - precision: 0.0013 - recall: 0.0010 - val_loss: 3.5170 - val_auc: 0.0013 - val_precision: 0.0000e+00 - val_recall: 0.0000e+00\n",
            "Epoch 3/500\n",
            "226/226 [==============================] - 1s 5ms/step - loss: 3.9054 - auc: 0.1237 - precision: 0.1619 - recall: 0.1469 - val_loss: 1.3566 - val_auc: 0.6315 - val_precision: 0.8611 - val_recall: 0.7045\n",
            "Epoch 4/500\n",
            "226/226 [==============================] - 1s 5ms/step - loss: 2.3946 - auc: 0.3467 - precision: 0.5129 - recall: 0.4111 - val_loss: 1.3268 - val_auc: 0.6722 - val_precision: 0.8718 - val_recall: 0.7727\n",
            "Epoch 5/500\n",
            "226/226 [==============================] - 1s 5ms/step - loss: 2.0889 - auc: 0.4883 - precision: 0.6635 - recall: 0.5495 - val_loss: 1.0092 - val_auc: 0.7190 - val_precision: 0.8718 - val_recall: 0.7727\n",
            "Epoch 6/500\n",
            "226/226 [==============================] - 1s 5ms/step - loss: 1.7191 - auc: 0.4091 - precision: 0.6454 - recall: 0.4510 - val_loss: 0.6779 - val_auc: 0.7506 - val_precision: 0.8750 - val_recall: 0.7955\n",
            "Epoch 7/500\n",
            "226/226 [==============================] - 1s 5ms/step - loss: 1.4322 - auc: 0.5558 - precision: 0.7181 - recall: 0.5676 - val_loss: 0.4472 - val_auc: 0.7817 - val_precision: 0.8974 - val_recall: 0.7955\n",
            "Epoch 8/500\n",
            "226/226 [==============================] - 1s 5ms/step - loss: 1.2257 - auc: 0.5279 - precision: 0.7305 - recall: 0.5539 - val_loss: 0.3469 - val_auc: 0.7941 - val_precision: 0.8780 - val_recall: 0.8182\n",
            "Epoch 9/500\n",
            "226/226 [==============================] - 1s 5ms/step - loss: 1.1576 - auc: 0.4676 - precision: 0.6479 - recall: 0.5010 - val_loss: 0.2446 - val_auc: 0.8449 - val_precision: 0.8837 - val_recall: 0.8636\n",
            "Epoch 10/500\n",
            "226/226 [==============================] - 1s 5ms/step - loss: 1.0388 - auc: 0.5587 - precision: 0.7220 - recall: 0.5775 - val_loss: 0.2109 - val_auc: 0.8461 - val_precision: 0.8837 - val_recall: 0.8636\n",
            "Epoch 11/500\n",
            "226/226 [==============================] - 1s 5ms/step - loss: 1.0494 - auc: 0.5140 - precision: 0.7270 - recall: 0.5111 - val_loss: 0.1560 - val_auc: 0.8792 - val_precision: 0.8810 - val_recall: 0.8409\n",
            "Epoch 12/500\n",
            "226/226 [==============================] - 1s 5ms/step - loss: 0.8956 - auc: 0.5729 - precision: 0.6962 - recall: 0.5739 - val_loss: 0.1494 - val_auc: 0.8745 - val_precision: 0.8780 - val_recall: 0.8182\n",
            "Epoch 13/500\n",
            "226/226 [==============================] - 1s 5ms/step - loss: 0.8710 - auc: 0.5760 - precision: 0.7585 - recall: 0.5611 - val_loss: 0.1238 - val_auc: 0.8982 - val_precision: 0.8837 - val_recall: 0.8636\n",
            "Epoch 14/500\n",
            "226/226 [==============================] - 1s 5ms/step - loss: 0.7362 - auc: 0.5809 - precision: 0.7920 - recall: 0.5901 - val_loss: 0.1088 - val_auc: 0.9040 - val_precision: 0.8810 - val_recall: 0.8409\n",
            "Epoch 15/500\n",
            "226/226 [==============================] - 1s 5ms/step - loss: 0.6710 - auc: 0.5660 - precision: 0.7463 - recall: 0.5083 - val_loss: 0.1088 - val_auc: 0.9169 - val_precision: 0.8864 - val_recall: 0.8864\n",
            "Epoch 16/500\n",
            "226/226 [==============================] - 1s 5ms/step - loss: 0.6247 - auc: 0.5947 - precision: 0.7451 - recall: 0.5749 - val_loss: 0.1171 - val_auc: 0.9157 - val_precision: 0.8864 - val_recall: 0.8864\n",
            "Epoch 17/500\n",
            "226/226 [==============================] - 1s 5ms/step - loss: 0.5469 - auc: 0.6825 - precision: 0.7830 - recall: 0.6332 - val_loss: 0.0986 - val_auc: 0.9041 - val_precision: 0.9250 - val_recall: 0.8409\n",
            "Epoch 18/500\n",
            "226/226 [==============================] - 1s 5ms/step - loss: 0.5303 - auc: 0.5717 - precision: 0.7396 - recall: 0.5469 - val_loss: 0.1098 - val_auc: 0.9396 - val_precision: 0.8837 - val_recall: 0.8636\n",
            "Epoch 19/500\n",
            "226/226 [==============================] - 1s 5ms/step - loss: 0.5574 - auc: 0.6563 - precision: 0.7714 - recall: 0.6466 - val_loss: 0.0904 - val_auc: 0.9378 - val_precision: 0.8864 - val_recall: 0.8864\n",
            "Epoch 20/500\n",
            "226/226 [==============================] - 1s 5ms/step - loss: 0.5150 - auc: 0.6691 - precision: 0.8160 - recall: 0.5845 - val_loss: 0.0818 - val_auc: 0.9320 - val_precision: 0.9070 - val_recall: 0.8864\n",
            "Epoch 21/500\n",
            "226/226 [==============================] - 1s 5ms/step - loss: 0.5505 - auc: 0.6553 - precision: 0.8086 - recall: 0.5830 - val_loss: 0.0892 - val_auc: 0.9415 - val_precision: 0.8864 - val_recall: 0.8864\n",
            "Epoch 22/500\n",
            "226/226 [==============================] - 1s 5ms/step - loss: 0.4584 - auc: 0.6805 - precision: 0.8048 - recall: 0.6385 - val_loss: 0.0908 - val_auc: 0.9447 - val_precision: 0.8696 - val_recall: 0.9091\n",
            "Epoch 23/500\n",
            "226/226 [==============================] - 1s 5ms/step - loss: 0.3483 - auc: 0.7221 - precision: 0.8208 - recall: 0.6504 - val_loss: 0.0957 - val_auc: 0.9437 - val_precision: 0.8889 - val_recall: 0.9091\n",
            "Epoch 24/500\n",
            "226/226 [==============================] - 1s 5ms/step - loss: 0.4870 - auc: 0.6255 - precision: 0.7652 - recall: 0.5481 - val_loss: 0.1309 - val_auc: 0.9090 - val_precision: 0.8810 - val_recall: 0.8409\n",
            "Epoch 25/500\n",
            "226/226 [==============================] - 1s 5ms/step - loss: 0.3841 - auc: 0.6976 - precision: 0.8497 - recall: 0.6249 - val_loss: 0.0960 - val_auc: 0.9391 - val_precision: 0.8864 - val_recall: 0.8864\n",
            "Epoch 26/500\n",
            "226/226 [==============================] - 1s 5ms/step - loss: 0.3479 - auc: 0.7231 - precision: 0.8309 - recall: 0.6331 - val_loss: 0.0863 - val_auc: 0.9326 - val_precision: 0.8810 - val_recall: 0.8409\n",
            "Epoch 27/500\n",
            "226/226 [==============================] - 1s 5ms/step - loss: 0.3687 - auc: 0.7027 - precision: 0.8448 - recall: 0.6476 - val_loss: 0.1002 - val_auc: 0.9380 - val_precision: 0.8864 - val_recall: 0.8864\n",
            "Epoch 28/500\n",
            "226/226 [==============================] - 1s 5ms/step - loss: 0.3407 - auc: 0.7597 - precision: 0.8792 - recall: 0.6758 - val_loss: 0.0974 - val_auc: 0.9370 - val_precision: 0.8889 - val_recall: 0.9091\n",
            "Epoch 29/500\n",
            "226/226 [==============================] - 1s 5ms/step - loss: 0.3854 - auc: 0.6759 - precision: 0.8247 - recall: 0.6077 - val_loss: 0.0855 - val_auc: 0.9439 - val_precision: 0.9070 - val_recall: 0.8864\n",
            "Epoch 30/500\n",
            "226/226 [==============================] - 1s 5ms/step - loss: 0.3153 - auc: 0.6935 - precision: 0.8071 - recall: 0.6067 - val_loss: 0.0869 - val_auc: 0.9414 - val_precision: 0.9048 - val_recall: 0.8636\n",
            "Epoch 31/500\n",
            "226/226 [==============================] - 1s 5ms/step - loss: 0.3404 - auc: 0.7643 - precision: 0.8866 - recall: 0.6828 - val_loss: 0.0906 - val_auc: 0.9328 - val_precision: 0.9000 - val_recall: 0.8182\n",
            "Epoch 32/500\n",
            "226/226 [==============================] - 1s 5ms/step - loss: 0.2849 - auc: 0.7518 - precision: 0.8451 - recall: 0.6551 - val_loss: 0.0841 - val_auc: 0.9459 - val_precision: 0.8864 - val_recall: 0.8864\n",
            "Epoch 33/500\n",
            "226/226 [==============================] - 1s 5ms/step - loss: 0.3337 - auc: 0.6987 - precision: 0.8277 - recall: 0.6139 - val_loss: 0.0952 - val_auc: 0.9454 - val_precision: 0.8837 - val_recall: 0.8636\n",
            "Epoch 34/500\n",
            "226/226 [==============================] - 1s 5ms/step - loss: 0.3287 - auc: 0.7372 - precision: 0.8674 - recall: 0.6461 - val_loss: 0.0787 - val_auc: 0.9416 - val_precision: 0.9268 - val_recall: 0.8636\n",
            "Epoch 35/500\n",
            "226/226 [==============================] - 1s 5ms/step - loss: 0.3003 - auc: 0.7639 - precision: 0.8692 - recall: 0.6263 - val_loss: 0.0962 - val_auc: 0.9418 - val_precision: 0.8864 - val_recall: 0.8864\n",
            "Epoch 36/500\n",
            "226/226 [==============================] - 1s 5ms/step - loss: 0.2875 - auc: 0.7353 - precision: 0.8779 - recall: 0.6564 - val_loss: 0.0974 - val_auc: 0.9351 - val_precision: 0.8837 - val_recall: 0.8636\n",
            "Epoch 37/500\n",
            "226/226 [==============================] - 1s 5ms/step - loss: 0.2731 - auc: 0.7473 - precision: 0.8379 - recall: 0.6084 - val_loss: 0.1112 - val_auc: 0.9430 - val_precision: 0.8667 - val_recall: 0.8864\n",
            "Epoch 38/500\n",
            "226/226 [==============================] - 1s 6ms/step - loss: 0.2092 - auc: 0.7992 - precision: 0.8973 - recall: 0.6880 - val_loss: 0.0975 - val_auc: 0.9427 - val_precision: 0.8696 - val_recall: 0.9091\n",
            "Epoch 39/500\n",
            "226/226 [==============================] - 1s 5ms/step - loss: 0.2722 - auc: 0.7626 - precision: 0.8863 - recall: 0.6412 - val_loss: 0.1080 - val_auc: 0.9341 - val_precision: 0.8864 - val_recall: 0.8864\n",
            "Epoch 40/500\n",
            "226/226 [==============================] - 1s 5ms/step - loss: 0.2746 - auc: 0.7470 - precision: 0.8712 - recall: 0.6613 - val_loss: 0.1215 - val_auc: 0.9317 - val_precision: 0.8864 - val_recall: 0.8864\n",
            "Epoch 41/500\n",
            "226/226 [==============================] - 1s 5ms/step - loss: 0.2801 - auc: 0.7811 - precision: 0.8501 - recall: 0.7235 - val_loss: 0.0827 - val_auc: 0.9423 - val_precision: 0.9268 - val_recall: 0.8636\n",
            "Epoch 42/500\n",
            "226/226 [==============================] - 1s 5ms/step - loss: 0.2186 - auc: 0.7697 - precision: 0.8402 - recall: 0.6538 - val_loss: 0.1018 - val_auc: 0.9429 - val_precision: 0.8696 - val_recall: 0.9091\n",
            "Epoch 43/500\n",
            "226/226 [==============================] - 1s 5ms/step - loss: 0.2395 - auc: 0.8000 - precision: 0.8539 - recall: 0.6941 - val_loss: 0.0947 - val_auc: 0.9393 - val_precision: 0.8889 - val_recall: 0.9091\n",
            "Epoch 44/500\n",
            "226/226 [==============================] - 1s 5ms/step - loss: 0.2382 - auc: 0.7423 - precision: 0.8797 - recall: 0.6127 - val_loss: 0.1024 - val_auc: 0.9378 - val_precision: 0.8864 - val_recall: 0.8864\n",
            "Epoch 45/500\n",
            "226/226 [==============================] - 1s 5ms/step - loss: 0.2809 - auc: 0.7602 - precision: 0.8643 - recall: 0.6676 - val_loss: 0.0845 - val_auc: 0.9480 - val_precision: 0.8837 - val_recall: 0.8636\n",
            "Epoch 46/500\n",
            "226/226 [==============================] - 1s 5ms/step - loss: 0.2097 - auc: 0.7718 - precision: 0.8765 - recall: 0.6536 - val_loss: 0.1028 - val_auc: 0.9417 - val_precision: 0.8810 - val_recall: 0.8409\n",
            "Epoch 47/500\n",
            "226/226 [==============================] - 1s 5ms/step - loss: 0.2126 - auc: 0.7832 - precision: 0.8595 - recall: 0.6804 - val_loss: 0.0892 - val_auc: 0.9436 - val_precision: 0.8837 - val_recall: 0.8636\n",
            "Epoch 48/500\n",
            "226/226 [==============================] - 1s 5ms/step - loss: 0.2791 - auc: 0.7655 - precision: 0.8496 - recall: 0.6642 - val_loss: 0.0810 - val_auc: 0.9461 - val_precision: 0.9302 - val_recall: 0.9091\n",
            "Epoch 49/500\n",
            "226/226 [==============================] - 1s 5ms/step - loss: 0.2233 - auc: 0.8050 - precision: 0.9065 - recall: 0.7170 - val_loss: 0.0823 - val_auc: 0.9438 - val_precision: 0.9302 - val_recall: 0.9091\n",
            "Epoch 50/500\n",
            "226/226 [==============================] - 1s 5ms/step - loss: 0.2173 - auc: 0.8093 - precision: 0.8880 - recall: 0.6997 - val_loss: 0.0853 - val_auc: 0.9461 - val_precision: 0.9070 - val_recall: 0.8864\n",
            "Epoch 51/500\n",
            "226/226 [==============================] - 1s 5ms/step - loss: 0.1961 - auc: 0.8188 - precision: 0.9028 - recall: 0.6842 - val_loss: 0.0833 - val_auc: 0.9476 - val_precision: 0.9302 - val_recall: 0.9091\n",
            "Epoch 52/500\n",
            "226/226 [==============================] - 1s 5ms/step - loss: 0.1697 - auc: 0.8305 - precision: 0.9137 - recall: 0.6822 - val_loss: 0.1017 - val_auc: 0.9506 - val_precision: 0.8696 - val_recall: 0.9091\n",
            "Epoch 53/500\n",
            "226/226 [==============================] - 1s 5ms/step - loss: 0.2006 - auc: 0.7913 - precision: 0.8819 - recall: 0.7012 - val_loss: 0.0831 - val_auc: 0.9436 - val_precision: 0.9070 - val_recall: 0.8864\n",
            "Epoch 54/500\n",
            "226/226 [==============================] - 1s 5ms/step - loss: 0.1772 - auc: 0.8143 - precision: 0.8930 - recall: 0.6793 - val_loss: 0.0897 - val_auc: 0.9465 - val_precision: 0.9070 - val_recall: 0.8864\n",
            "\n",
            "Epoch 00054: ReduceLROnPlateau reducing learning rate to 9.999999747378752e-06.\n"
          ],
          "name": "stdout"
        }
      ]
    },
    {
      "cell_type": "code",
      "metadata": {
        "id": "N3FyPrFMmTns"
      },
      "source": [
        "def plot_train_history(train_history):\n",
        "  fig, axs = plt.subplots(1,2, figsize=(20,8))\n",
        "  axs[0].plot(train_history.history['loss'])\n",
        "  axs[0].plot(train_history.history['val_loss'])\n",
        "  axs[0].set_title(\"Model Training and Testing loss:\")\n",
        "  axs[0].set_xlabel(\"Epoch\")\n",
        "  axs[0].set_ylabel(\"loss\")\n",
        "  axs[0].legend(['Train', \"Val\"])\n",
        "  \n",
        "  axs[1].plot(train_history.history['auc'])\n",
        "  axs[1].plot(train_history.history['val_auc'])\n",
        "  axs[1].set_title(\"AUC-Precision-Recall-curve Training and Testing:\")\n",
        "  axs[1].set_xlabel(\"Epoch\")\n",
        "  axs[1].set_ylabel(\"AUC-PR\")\n",
        "  axs[1].legend(['Train', \"Val\"])"
      ],
      "execution_count": 9,
      "outputs": []
    },
    {
      "cell_type": "code",
      "metadata": {
        "id": "P5J69DFMd_dV",
        "colab": {
          "base_uri": "https://localhost:8080/",
          "height": 513
        },
        "outputId": "c4a4effa-49b9-458d-b520-f63f28f84d27"
      },
      "source": [
        "plot_train_history(train_history)"
      ],
      "execution_count": 10,
      "outputs": [
        {
          "output_type": "display_data",
          "data": {
            "image/png": "[encoded data removed]",
            "text/plain": [
              "<Figure size 1440x576 with 2 Axes>"
            ]
          },
          "metadata": {
            "tags": [],
            "needs_background": "light"
          }
        }
      ]
    },
    {
      "cell_type": "code",
      "metadata": {
        "id": "X-aO3OhLmTq7",
        "colab": {
          "base_uri": "https://localhost:8080/"
        },
        "outputId": "f9d89b4e-4ea7-48af-a34f-3e429ca05ed5"
      },
      "source": [
        "test_loss, test_auc, test_pre, test_recall = model.evaluate(X_test, y_test)\n",
        "print(\"Test AUC-PR score: \", test_auc)\n",
        "print(\"Test Precission: \", test_pre)\n",
        "print(\"Test Recall: \", test_recall)\n",
        "print(\"Test F1 score: \", 2*((test_pre*test_recall)/(test_pre+test_recall)) )"
      ],
      "execution_count": 11,
      "outputs": [
        {
          "output_type": "stream",
          "text": [
            "891/891 [==============================] - 3s 3ms/step - loss: 0.0068 - auc: 0.8084 - precision: 0.8478 - recall: 0.7959\n",
            "Test AUC-PR score:  0.8083727359771729\n",
            "Test Precission:  0.8478260636329651\n",
            "Test Recall:  0.795918345451355\n",
            "Test F1 score:  0.8210526089919241\n"
          ],
          "name": "stdout"
        }
      ]
    },
    {
      "cell_type": "code",
      "metadata": {
        "id": "ZMqJ7X01nD1B",
        "colab": {
          "base_uri": "https://localhost:8080/",
          "height": 311
        },
        "outputId": "4e2bed01-b7e1-43fc-ceec-b0c5e978a307"
      },
      "source": [
        "y_pred_test = model.predict(X_test) >= 0.5\n",
        "\n",
        "cMatrix = confusion_matrix(y_true=y_test,y_pred=y_pred_test)\n",
        "classes = (\"Not Fraud\", \"Fraud\")\n",
        "ax = sns.heatmap(cMatrix,annot=True,fmt=\"d\",xticklabels=classes,\n",
        "                 yticklabels=classes)\n",
        "plt.suptitle('Confusion Matrix of Test data')"
      ],
      "execution_count": 12,
      "outputs": [
        {
          "output_type": "execute_result",
          "data": {
            "text/plain": [
              "Text(0.5, 0.98, 'Confusion Matrix of Test data')"
            ]
          },
          "metadata": {
            "tags": []
          },
          "execution_count": 12
        },
        {
          "output_type": "display_data",
          "data": {
            "image/png": "[encoded data removed]",
            "text/plain": [
              "<Figure size 432x288 with 2 Axes>"
            ]
          },
          "metadata": {
            "tags": [],
            "needs_background": "light"
          }
        }
      ]
    },
    {
      "cell_type": "code",
      "metadata": {
        "id": "XnwXF2cD7F4M"
      },
      "source": [
        "model.save('credit_card_fraud_detect.h5')"
      ],
      "execution_count": 13,
      "outputs": []
    }
  ]
}