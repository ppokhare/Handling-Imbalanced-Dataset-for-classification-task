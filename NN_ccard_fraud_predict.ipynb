{
  "cells": [
    {
      "cell_type": "code",
      "execution_count": 2,
      "metadata": {
        "colab": {
          "base_uri": "https://localhost:8080/"
        },
        "id": "kn8oEnq6d6dl",
        "outputId": "26602487-4789-4cec-9151-fdafdd48474c"
      },
      "outputs": [
        {
          "name": "stdout",
          "output_type": "stream",
          "text": [
            "Sat Oct 16 22:29:22 2021       \n",
            "+-----------------------------------------------------------------------------+\n",
            "| NVIDIA-SMI 470.74       Driver Version: 460.32.03    CUDA Version: 11.2     |\n",
            "|-------------------------------+----------------------+----------------------+\n",
            "| GPU  Name        Persistence-M| Bus-Id        Disp.A | Volatile Uncorr. ECC |\n",
            "| Fan  Temp  Perf  Pwr:Usage/Cap|         Memory-Usage | GPU-Util  Compute M. |\n",
            "|                               |                      |               MIG M. |\n",
            "|===============================+======================+======================|\n",
            "|   0  Tesla K80           Off  | 00000000:00:04.0 Off |                    0 |\n",
            "| N/A   46C    P0    57W / 149W |      0MiB / 11441MiB |      0%      Default |\n",
            "|                               |                      |                  N/A |\n",
            "+-------------------------------+----------------------+----------------------+\n",
            "                                                                               \n",
            "+-----------------------------------------------------------------------------+\n",
            "| Processes:                                                                  |\n",
            "|  GPU   GI   CI        PID   Type   Process name                  GPU Memory |\n",
            "|        ID   ID                                                   Usage      |\n",
            "|=============================================================================|\n",
            "|  No running processes found                                                 |\n",
            "+-----------------------------------------------------------------------------+\n"
          ]
        }
      ],
      "source": [
        "!nvidia-smi"
      ]
    },
    {
      "cell_type": "code",
      "execution_count": 3,
      "metadata": {
        "id": "5iZ-Cqm0mSkS"
      },
      "outputs": [],
      "source": [
        "import numpy as np\n",
        "import pandas as pd\n",
        "import seaborn as sns\n",
        "import matplotlib.pyplot as plt\n",
        "\n",
        "from sklearn.preprocessing import RobustScaler\n",
        "from sklearn.model_selection import train_test_split\n",
        "from sklearn.metrics import confusion_matrix, f1_score, accuracy_score\n",
        "\n",
        "import tensorflow as tf\n",
        "from tensorflow.keras import backend as K\n",
        "\n",
        "import warnings\n",
        "warnings.filterwarnings('ignore')"
      ]
    },
    {
      "cell_type": "markdown",
      "metadata": {
        "id": "hsstEDJZbJ2p"
      },
      "source": [
        "## Data Preprocessing"
      ]
    },
    {
      "cell_type": "code",
      "execution_count": 4,
      "metadata": {
        "colab": {
          "base_uri": "https://localhost:8080/",
          "height": 451
        },
        "id": "778h2xAcmTYz",
        "outputId": "cea4ff41-e8a0-4fdd-cb1d-c8330182441e"
      },
      "outputs": [
        {
          "name": "stdout",
          "output_type": "stream",
          "text": [
            "   Time        V1        V2        V3  ...       V27       V28  Amount  Class\n",
            "0   0.0 -1.359807 -0.072781  2.536347  ...  0.133558 -0.021053  149.62      0\n",
            "1   0.0  1.191857  0.266151  0.166480  ... -0.008983  0.014724    2.69      0\n",
            "2   1.0 -1.358354 -1.340163  1.773209  ... -0.055353 -0.059752  378.66      0\n",
            "3   1.0 -0.966272 -0.185226  1.792993  ...  0.062723  0.061458  123.50      0\n",
            "4   2.0 -1.158233  0.877737  1.548718  ...  0.219422  0.215153   69.99      0\n",
            "\n",
            "[5 rows x 31 columns]\n"
          ]
        },
        {
          "data": {
            "text/plain": [
              "Text(0.5, 1.0, 'Very unbalanced Class')"
            ]
          },
          "execution_count": 4,
          "metadata": {},
          "output_type": "execute_result"
        },
        {
          "data": {
            "image/png": "[encoded data removed]",
            "text/plain": [
              "<Figure size 432x288 with 1 Axes>"
            ]
          },
          "metadata": {
            "needs_background": "light"
          },
          "output_type": "display_data"
        }
      ],
      "source": [
        "df = pd.read_csv(\"creditcard.csv\")\n",
        "print(df.head())\n",
        "sns.countplot(x=df.Class).set_title('Very unbalanced Class')"
      ]
    },
    {
      "cell_type": "markdown",
      "metadata": {
        "id": "fbpDe9_1gim-"
      },
      "source": [
        "Use RobustScaler which is less prone to outliers to normalized Amount and Time. "
      ]
    },
    {
      "cell_type": "code",
      "execution_count": 5,
      "metadata": {
        "colab": {
          "base_uri": "https://localhost:8080/",
          "height": 226
        },
        "id": "5A8FSEQ6eKVK",
        "outputId": "43899406-9b60-4ed4-b02c-b24de4c116c0"
      },
      "outputs": [
        {
          "data": {
            "text/html": [
              "<div>\n",
              "<style scoped>\n",
              "    .dataframe tbody tr th:only-of-type {\n",
              "        vertical-align: middle;\n",
              "    }\n",
              "\n",
              "    .dataframe tbody tr th {\n",
              "        vertical-align: top;\n",
              "    }\n",
              "\n",
              "    .dataframe thead th {\n",
              "        text-align: right;\n",
              "    }\n",
              "</style>\n",
              "<table border=\"1\" class=\"dataframe\">\n",
              "  <thead>\n",
              "    <tr style=\"text-align: right;\">\n",
              "      <th></th>\n",
              "      <th>V1</th>\n",
              "      <th>V2</th>\n",
              "      <th>V3</th>\n",
              "      <th>V4</th>\n",
              "      <th>V5</th>\n",
              "      <th>V6</th>\n",
              "      <th>V7</th>\n",
              "      <th>V8</th>\n",
              "      <th>V9</th>\n",
              "      <th>V10</th>\n",
              "      <th>V11</th>\n",
              "      <th>V12</th>\n",
              "      <th>V13</th>\n",
              "      <th>V14</th>\n",
              "      <th>V15</th>\n",
              "      <th>V16</th>\n",
              "      <th>V17</th>\n",
              "      <th>V18</th>\n",
              "      <th>V19</th>\n",
              "      <th>V20</th>\n",
              "      <th>V21</th>\n",
              "      <th>V22</th>\n",
              "      <th>V23</th>\n",
              "      <th>V24</th>\n",
              "      <th>V25</th>\n",
              "      <th>V26</th>\n",
              "      <th>V27</th>\n",
              "      <th>V28</th>\n",
              "      <th>Class</th>\n",
              "      <th>Scaled_Amount</th>\n",
              "      <th>Scaled_Time</th>\n",
              "    </tr>\n",
              "  </thead>\n",
              "  <tbody>\n",
              "    <tr>\n",
              "      <th>0</th>\n",
              "      <td>-1.359807</td>\n",
              "      <td>-0.072781</td>\n",
              "      <td>2.536347</td>\n",
              "      <td>1.378155</td>\n",
              "      <td>-0.338321</td>\n",
              "      <td>0.462388</td>\n",
              "      <td>0.239599</td>\n",
              "      <td>0.098698</td>\n",
              "      <td>0.363787</td>\n",
              "      <td>0.090794</td>\n",
              "      <td>-0.551600</td>\n",
              "      <td>-0.617801</td>\n",
              "      <td>-0.991390</td>\n",
              "      <td>-0.311169</td>\n",
              "      <td>1.468177</td>\n",
              "      <td>-0.470401</td>\n",
              "      <td>0.207971</td>\n",
              "      <td>0.025791</td>\n",
              "      <td>0.403993</td>\n",
              "      <td>0.251412</td>\n",
              "      <td>-0.018307</td>\n",
              "      <td>0.277838</td>\n",
              "      <td>-0.110474</td>\n",
              "      <td>0.066928</td>\n",
              "      <td>0.128539</td>\n",
              "      <td>-0.189115</td>\n",
              "      <td>0.133558</td>\n",
              "      <td>-0.021053</td>\n",
              "      <td>0</td>\n",
              "      <td>1.783274</td>\n",
              "      <td>-0.994983</td>\n",
              "    </tr>\n",
              "    <tr>\n",
              "      <th>1</th>\n",
              "      <td>1.191857</td>\n",
              "      <td>0.266151</td>\n",
              "      <td>0.166480</td>\n",
              "      <td>0.448154</td>\n",
              "      <td>0.060018</td>\n",
              "      <td>-0.082361</td>\n",
              "      <td>-0.078803</td>\n",
              "      <td>0.085102</td>\n",
              "      <td>-0.255425</td>\n",
              "      <td>-0.166974</td>\n",
              "      <td>1.612727</td>\n",
              "      <td>1.065235</td>\n",
              "      <td>0.489095</td>\n",
              "      <td>-0.143772</td>\n",
              "      <td>0.635558</td>\n",
              "      <td>0.463917</td>\n",
              "      <td>-0.114805</td>\n",
              "      <td>-0.183361</td>\n",
              "      <td>-0.145783</td>\n",
              "      <td>-0.069083</td>\n",
              "      <td>-0.225775</td>\n",
              "      <td>-0.638672</td>\n",
              "      <td>0.101288</td>\n",
              "      <td>-0.339846</td>\n",
              "      <td>0.167170</td>\n",
              "      <td>0.125895</td>\n",
              "      <td>-0.008983</td>\n",
              "      <td>0.014724</td>\n",
              "      <td>0</td>\n",
              "      <td>-0.269825</td>\n",
              "      <td>-0.994983</td>\n",
              "    </tr>\n",
              "    <tr>\n",
              "      <th>2</th>\n",
              "      <td>-1.358354</td>\n",
              "      <td>-1.340163</td>\n",
              "      <td>1.773209</td>\n",
              "      <td>0.379780</td>\n",
              "      <td>-0.503198</td>\n",
              "      <td>1.800499</td>\n",
              "      <td>0.791461</td>\n",
              "      <td>0.247676</td>\n",
              "      <td>-1.514654</td>\n",
              "      <td>0.207643</td>\n",
              "      <td>0.624501</td>\n",
              "      <td>0.066084</td>\n",
              "      <td>0.717293</td>\n",
              "      <td>-0.165946</td>\n",
              "      <td>2.345865</td>\n",
              "      <td>-2.890083</td>\n",
              "      <td>1.109969</td>\n",
              "      <td>-0.121359</td>\n",
              "      <td>-2.261857</td>\n",
              "      <td>0.524980</td>\n",
              "      <td>0.247998</td>\n",
              "      <td>0.771679</td>\n",
              "      <td>0.909412</td>\n",
              "      <td>-0.689281</td>\n",
              "      <td>-0.327642</td>\n",
              "      <td>-0.139097</td>\n",
              "      <td>-0.055353</td>\n",
              "      <td>-0.059752</td>\n",
              "      <td>0</td>\n",
              "      <td>4.983721</td>\n",
              "      <td>-0.994972</td>\n",
              "    </tr>\n",
              "    <tr>\n",
              "      <th>3</th>\n",
              "      <td>-0.966272</td>\n",
              "      <td>-0.185226</td>\n",
              "      <td>1.792993</td>\n",
              "      <td>-0.863291</td>\n",
              "      <td>-0.010309</td>\n",
              "      <td>1.247203</td>\n",
              "      <td>0.237609</td>\n",
              "      <td>0.377436</td>\n",
              "      <td>-1.387024</td>\n",
              "      <td>-0.054952</td>\n",
              "      <td>-0.226487</td>\n",
              "      <td>0.178228</td>\n",
              "      <td>0.507757</td>\n",
              "      <td>-0.287924</td>\n",
              "      <td>-0.631418</td>\n",
              "      <td>-1.059647</td>\n",
              "      <td>-0.684093</td>\n",
              "      <td>1.965775</td>\n",
              "      <td>-1.232622</td>\n",
              "      <td>-0.208038</td>\n",
              "      <td>-0.108300</td>\n",
              "      <td>0.005274</td>\n",
              "      <td>-0.190321</td>\n",
              "      <td>-1.175575</td>\n",
              "      <td>0.647376</td>\n",
              "      <td>-0.221929</td>\n",
              "      <td>0.062723</td>\n",
              "      <td>0.061458</td>\n",
              "      <td>0</td>\n",
              "      <td>1.418291</td>\n",
              "      <td>-0.994972</td>\n",
              "    </tr>\n",
              "    <tr>\n",
              "      <th>4</th>\n",
              "      <td>-1.158233</td>\n",
              "      <td>0.877737</td>\n",
              "      <td>1.548718</td>\n",
              "      <td>0.403034</td>\n",
              "      <td>-0.407193</td>\n",
              "      <td>0.095921</td>\n",
              "      <td>0.592941</td>\n",
              "      <td>-0.270533</td>\n",
              "      <td>0.817739</td>\n",
              "      <td>0.753074</td>\n",
              "      <td>-0.822843</td>\n",
              "      <td>0.538196</td>\n",
              "      <td>1.345852</td>\n",
              "      <td>-1.119670</td>\n",
              "      <td>0.175121</td>\n",
              "      <td>-0.451449</td>\n",
              "      <td>-0.237033</td>\n",
              "      <td>-0.038195</td>\n",
              "      <td>0.803487</td>\n",
              "      <td>0.408542</td>\n",
              "      <td>-0.009431</td>\n",
              "      <td>0.798278</td>\n",
              "      <td>-0.137458</td>\n",
              "      <td>0.141267</td>\n",
              "      <td>-0.206010</td>\n",
              "      <td>0.502292</td>\n",
              "      <td>0.219422</td>\n",
              "      <td>0.215153</td>\n",
              "      <td>0</td>\n",
              "      <td>0.670579</td>\n",
              "      <td>-0.994960</td>\n",
              "    </tr>\n",
              "  </tbody>\n",
              "</table>\n",
              "</div>"
            ],
            "text/plain": [
              "         V1        V2        V3  ...  Class  Scaled_Amount  Scaled_Time\n",
              "0 -1.359807 -0.072781  2.536347  ...      0       1.783274    -0.994983\n",
              "1  1.191857  0.266151  0.166480  ...      0      -0.269825    -0.994983\n",
              "2 -1.358354 -1.340163  1.773209  ...      0       4.983721    -0.994972\n",
              "3 -0.966272 -0.185226  1.792993  ...      0       1.418291    -0.994972\n",
              "4 -1.158233  0.877737  1.548718  ...      0       0.670579    -0.994960\n",
              "\n",
              "[5 rows x 31 columns]"
            ]
          },
          "execution_count": 5,
          "metadata": {},
          "output_type": "execute_result"
        }
      ],
      "source": [
        "df['Scaled_Amount'] = RobustScaler().fit_transform(df['Amount'].values.reshape(-1,1))\n",
        "df['Scaled_Time'] = RobustScaler().fit_transform(df['Time'].values.reshape(-1,1))\n",
        "df.drop(['Time','Amount'], axis=1,  inplace = True)\n",
        "df.head()"
      ]
    },
    {
      "cell_type": "markdown",
      "metadata": {
        "id": "Ryka3zFm18uT"
      },
      "source": [
        "Strafied train, test, val split so that there are equal numbers of fraud \n",
        "cases in each splits."
      ]
    },
    {
      "cell_type": "code",
      "execution_count": 6,
      "metadata": {
        "colab": {
          "base_uri": "https://localhost:8080/"
        },
        "id": "-Yo8s25cf_j9",
        "outputId": "ea48b2b9-7845-4bd5-9cd3-2f00de7b486f"
      },
      "outputs": [
        {
          "name": "stdout",
          "output_type": "stream",
          "text": [
            "X: (284807, 30) (284807,)\n",
            "Train: (230693, 30) (230693,)\n",
            "Test: (28481, 30) (28481,)\n",
            "Val: (25633, 30) (25633,)\n",
            "0.173 % of fraud case in dataframe.\n",
            "0.173 % of fraud case in Train split.\n",
            "0.172 % of fraud case in Val split.\n",
            "0.172 % of fraud case in Test split.\n"
          ]
        }
      ],
      "source": [
        "X = df.drop(\"Class\",axis = 1)\n",
        "y = df[\"Class\"]\n",
        "X_train, X_test, y_train, y_test = train_test_split(X, y, test_size = 0.1, \n",
        "                                                    stratify = y)\n",
        "\n",
        "X_train, X_val, y_train, y_val = train_test_split(X_train, y_train,\n",
        "                                                  test_size = 0.1, \n",
        "                                                  stratify = y_train)\n",
        "\n",
        "print(\"X:\", X.shape, y.shape )\n",
        "print(\"Train:\", X_train.shape, y_train.shape )\n",
        "print(\"Test:\", X_test.shape, y_test.shape )\n",
        "print(\"Val:\", X_val.shape, y_val.shape )\n",
        "\n",
        "print(\"{:0.3f} % of fraud case in dataframe.\".format(((y==1).astype(int).sum())/((y==0).astype(int).sum())*100) )\n",
        "print(\"{:0.3f} % of fraud case in Train split.\".format(((y_train==1).astype(int).sum())/((y_train==0).astype(int).sum())*100) )\n",
        "print(\"{:0.3f} % of fraud case in Val split.\".format(((y_val==1).astype(int).sum())/((y_val==0).astype(int).sum())*100) )\n",
        "print(\"{:0.3f} % of fraud case in Test split.\".format(((y_test==1).astype(int).sum())/((y_test==0).astype(int).sum())*100) )"
      ]
    },
    {
      "cell_type": "code",
      "execution_count": 7,
      "metadata": {
        "id": "831VcS28mYbC"
      },
      "outputs": [],
      "source": [
        "def focal_loss(alpha, gamma):\n",
        "  \"\"\"Focal Loss Functiion: FL(p_t) = -alpha * (1 - p_t)**gamma * log(p_t)\n",
        "  Put more emphasis on fraudulent cases incompare to nonfraudulent cases during\n",
        "  training.\"\"\"\n",
        "  def calc_focal_loss(y_true, y_pred):\n",
        "    y_pred = tf.convert_to_tensor(y_pred)\n",
        "    y_true = tf.cast(y_true , tf.float32 )\n",
        "\n",
        "    p_t = (y_true*y_pred) + ((1-y_true)*(1-y_pred))\n",
        "    loss = (alpha*y_true+(1.0-alpha)*(1.0-y_true))*tf.pow((1.0-p_t),gamma)*-K.log(p_t+K.epsilon())\n",
        "    return tf.reduce_sum(loss)\n",
        "  return calc_focal_loss\n",
        "\n",
        "def f1(y_true, y_pred):\n",
        "    \"\"\"F1 score = 2* (precison * recall) /(precision + recall) \"\"\"\n",
        "    y_pred = tf.convert_to_tensor(y_pred)\n",
        "    y_true = tf.cast(y_true , tf.float32 )\n",
        "    ypred = tf.cast(y_pred >=0.5, tf.float32)\n",
        "\n",
        "    tp = tf.reduce_sum(y_true*ypred) \n",
        "    predicted_positive = tf.reduce_sum(y_pred) \n",
        "    actual_positive = tf.reduce_sum(y_true) \n",
        "    precision = tp/(predicted_positive+K.epsilon()) \n",
        "    recall = tp/(actual_positive+K.epsilon()) \n",
        "    \n",
        "    return 2*( (precision * recall) / (precision + recall+K.epsilon()) )"
      ]
    },
    {
      "cell_type": "code",
      "execution_count": 8,
      "metadata": {
        "colab": {
          "base_uri": "https://localhost:8080/"
        },
        "id": "Bpxb_yMomTfi",
        "outputId": "a71545d7-4c6c-4d18-9fb0-780089b6814f"
      },
      "outputs": [
        {
          "name": "stdout",
          "output_type": "stream",
          "text": [
            "Model: \"sequential\"\n",
            "_________________________________________________________________\n",
            "Layer (type)                 Output Shape              Param #   \n",
            "=================================================================\n",
            "dense (Dense)                (None, 128)               3968      \n",
            "_________________________________________________________________\n",
            "dense_1 (Dense)              (None, 64)                8256      \n",
            "_________________________________________________________________\n",
            "dense_2 (Dense)              (None, 32)                2080      \n",
            "_________________________________________________________________\n",
            "dense_3 (Dense)              (None, 1)                 33        \n",
            "=================================================================\n",
            "Total params: 14,337\n",
            "Trainable params: 14,337\n",
            "Non-trainable params: 0\n",
            "_________________________________________________________________\n"
          ]
        }
      ],
      "source": [
        "model = tf.keras.Sequential([\n",
        "  tf.keras.layers.Dense(128, \n",
        "                        input_shape=(30,),\n",
        "                        kernel_initializer=tf.keras.initializers.HeNormal(), \n",
        "                        bias_initializer=tf.keras.initializers.zeros(), \n",
        "                        activation=tf.nn.relu),\n",
        "  tf.keras.layers.Dense(64, \n",
        "                        kernel_initializer=tf.keras.initializers.HeNormal(), \n",
        "                        bias_initializer=tf.keras.initializers.zeros(), \n",
        "                        activation=tf.nn.relu),\n",
        "  # tf.keras.layers.Dropout(0.2),\n",
        "  tf.keras.layers.Dense(32, \n",
        "                        kernel_initializer=tf.keras.initializers.HeNormal(), \n",
        "                        bias_initializer=tf.keras.initializers.zeros(), \n",
        "                        activation=tf.nn.relu),\n",
        "  tf.keras.layers.Dense(1, \n",
        "                        kernel_initializer=tf.keras.initializers.GlorotNormal(), \n",
        "                        bias_initializer=tf.keras.initializers.zeros(),\n",
        "                        activation=tf.nn.sigmoid)])\n",
        "\n",
        "model.compile(optimizer = tf.keras.optimizers.Adam(learning_rate=1e-4),\n",
        "              loss = focal_loss(alpha=0.25, gamma=3.0),\n",
        "              metrics=[tf.keras.metrics.AUC(curve=\"PR\"),#Precision-Recall-Curve\n",
        "                       tf.keras.metrics.Precision(),\n",
        "                       tf.keras.metrics.Recall()])\n",
        "\n",
        "callbacks = [tf.keras.callbacks.EarlyStopping(monitor='val_loss', mode='auto',\n",
        "                                              patience=20, min_delta=0.0001,\n",
        "                                               restore_best_weights=True),\n",
        "             tf.keras.callbacks.ReduceLROnPlateau(monitor='val_loss',factor=0.1,\n",
        "                                                  patience=20,min_delta=0.00001,\n",
        "                                                  verbose=1,mode='auto')]\n",
        "\n",
        "model.summary()"
      ]
    },
    {
      "cell_type": "code",
      "execution_count": 9,
      "metadata": {
        "colab": {
          "base_uri": "https://localhost:8080/"
        },
        "id": "R2fR8Y2zbL11",
        "outputId": "25218c5c-d230-458c-daf5-97d82ea10139"
      },
      "outputs": [
        {
          "name": "stdout",
          "output_type": "stream",
          "text": [
            "Epoch 1/100\n",
            "226/226 [==============================] - 4s 11ms/step - loss: 23.7801 - auc: 0.0342 - precision: 0.0031 - recall: 0.1504 - val_loss: 3.2838 - val_auc: 0.1767 - val_precision: 0.7000 - val_recall: 0.1591\n",
            "Epoch 2/100\n",
            "226/226 [==============================] - 2s 7ms/step - loss: 1.9610 - auc: 0.2790 - precision: 0.7760 - recall: 0.2431 - val_loss: 1.5695 - val_auc: 0.3626 - val_precision: 0.8095 - val_recall: 0.3864\n",
            "Epoch 3/100\n",
            "226/226 [==============================] - 2s 7ms/step - loss: 1.1252 - auc: 0.3848 - precision: 0.8431 - recall: 0.3233 - val_loss: 1.1421 - val_auc: 0.4244 - val_precision: 0.8400 - val_recall: 0.4773\n",
            "Epoch 4/100\n",
            "226/226 [==============================] - 2s 8ms/step - loss: 0.8229 - auc: 0.4991 - precision: 0.8611 - recall: 0.3885 - val_loss: 0.8568 - val_auc: 0.4749 - val_precision: 0.7895 - val_recall: 0.3409\n",
            "Epoch 5/100\n",
            "226/226 [==============================] - 2s 7ms/step - loss: 0.6266 - auc: 0.5802 - precision: 0.8660 - recall: 0.4211 - val_loss: 0.6840 - val_auc: 0.5445 - val_precision: 0.8400 - val_recall: 0.4773\n",
            "Epoch 6/100\n",
            "226/226 [==============================] - 2s 7ms/step - loss: 0.4935 - auc: 0.6534 - precision: 0.8843 - recall: 0.4787 - val_loss: 0.5896 - val_auc: 0.6031 - val_precision: 0.8696 - val_recall: 0.4545\n",
            "Epoch 7/100\n",
            "226/226 [==============================] - 2s 7ms/step - loss: 0.4107 - auc: 0.7048 - precision: 0.9013 - recall: 0.5263 - val_loss: 0.5175 - val_auc: 0.6310 - val_precision: 0.8571 - val_recall: 0.5455\n",
            "Epoch 8/100\n",
            "226/226 [==============================] - 2s 7ms/step - loss: 0.3575 - auc: 0.7373 - precision: 0.9124 - recall: 0.5739 - val_loss: 0.4542 - val_auc: 0.6826 - val_precision: 0.9200 - val_recall: 0.5227\n",
            "Epoch 9/100\n",
            "226/226 [==============================] - 2s 7ms/step - loss: 0.3196 - auc: 0.7619 - precision: 0.9356 - recall: 0.6190 - val_loss: 0.4177 - val_auc: 0.7166 - val_precision: 0.9600 - val_recall: 0.5455\n",
            "Epoch 10/100\n",
            "226/226 [==============================] - 2s 7ms/step - loss: 0.2927 - auc: 0.7759 - precision: 0.9449 - recall: 0.6441 - val_loss: 0.3995 - val_auc: 0.7493 - val_precision: 0.8824 - val_recall: 0.6818\n",
            "Epoch 11/100\n",
            "226/226 [==============================] - 2s 7ms/step - loss: 0.2811 - auc: 0.7792 - precision: 0.9412 - recall: 0.6416 - val_loss: 0.3915 - val_auc: 0.7300 - val_precision: 0.9032 - val_recall: 0.6364\n",
            "Epoch 12/100\n",
            "226/226 [==============================] - 2s 7ms/step - loss: 0.2532 - auc: 0.7947 - precision: 0.9468 - recall: 0.6692 - val_loss: 0.3624 - val_auc: 0.7711 - val_precision: 0.9355 - val_recall: 0.6591\n",
            "Epoch 13/100\n",
            "226/226 [==============================] - 2s 7ms/step - loss: 0.2399 - auc: 0.8004 - precision: 0.9565 - recall: 0.6617 - val_loss: 0.3556 - val_auc: 0.7895 - val_precision: 0.8889 - val_recall: 0.7273\n",
            "Epoch 14/100\n",
            "226/226 [==============================] - 2s 7ms/step - loss: 0.2286 - auc: 0.8065 - precision: 0.9468 - recall: 0.6692 - val_loss: 0.3524 - val_auc: 0.7770 - val_precision: 0.9412 - val_recall: 0.7273\n",
            "Epoch 15/100\n",
            "226/226 [==============================] - 2s 7ms/step - loss: 0.2192 - auc: 0.8116 - precision: 0.9381 - recall: 0.6842 - val_loss: 0.3914 - val_auc: 0.7567 - val_precision: 0.9655 - val_recall: 0.6364\n",
            "Epoch 16/100\n",
            "226/226 [==============================] - 2s 7ms/step - loss: 0.2151 - auc: 0.8150 - precision: 0.9458 - recall: 0.6992 - val_loss: 0.3175 - val_auc: 0.8178 - val_precision: 0.9688 - val_recall: 0.7045\n",
            "Epoch 17/100\n",
            "226/226 [==============================] - 2s 7ms/step - loss: 0.1976 - auc: 0.8249 - precision: 0.9530 - recall: 0.7118 - val_loss: 0.3224 - val_auc: 0.8155 - val_precision: 0.9167 - val_recall: 0.7500\n",
            "Epoch 18/100\n",
            "226/226 [==============================] - 2s 7ms/step - loss: 0.1905 - auc: 0.8318 - precision: 0.9555 - recall: 0.6992 - val_loss: 0.3614 - val_auc: 0.7817 - val_precision: 0.9688 - val_recall: 0.7045\n",
            "Epoch 19/100\n",
            "226/226 [==============================] - 2s 7ms/step - loss: 0.1852 - auc: 0.8356 - precision: 0.9502 - recall: 0.7168 - val_loss: 0.3343 - val_auc: 0.7882 - val_precision: 0.9667 - val_recall: 0.6591\n",
            "Epoch 20/100\n",
            "226/226 [==============================] - 2s 7ms/step - loss: 0.1834 - auc: 0.8331 - precision: 0.9586 - recall: 0.6967 - val_loss: 0.3553 - val_auc: 0.8229 - val_precision: 0.8537 - val_recall: 0.7955\n",
            "Epoch 21/100\n",
            "226/226 [==============================] - 2s 7ms/step - loss: 0.1666 - auc: 0.8511 - precision: 0.9601 - recall: 0.7243 - val_loss: 0.3086 - val_auc: 0.8096 - val_precision: 0.9688 - val_recall: 0.7045\n",
            "Epoch 22/100\n",
            "226/226 [==============================] - 2s 8ms/step - loss: 0.1718 - auc: 0.8453 - precision: 0.9595 - recall: 0.7118 - val_loss: 0.3389 - val_auc: 0.7921 - val_precision: 0.9677 - val_recall: 0.6818\n",
            "Epoch 23/100\n",
            "226/226 [==============================] - 2s 7ms/step - loss: 0.1581 - auc: 0.8564 - precision: 0.9667 - recall: 0.7268 - val_loss: 0.3000 - val_auc: 0.8345 - val_precision: 0.9167 - val_recall: 0.7500\n",
            "Epoch 24/100\n",
            "226/226 [==============================] - 2s 7ms/step - loss: 0.1531 - auc: 0.8606 - precision: 0.9668 - recall: 0.7293 - val_loss: 0.3251 - val_auc: 0.7899 - val_precision: 0.9677 - val_recall: 0.6818\n",
            "Epoch 25/100\n",
            "226/226 [==============================] - 2s 7ms/step - loss: 0.1453 - auc: 0.8665 - precision: 0.9672 - recall: 0.7393 - val_loss: 0.2919 - val_auc: 0.8280 - val_precision: 0.9412 - val_recall: 0.7273\n",
            "Epoch 26/100\n",
            "226/226 [==============================] - 2s 7ms/step - loss: 0.1454 - auc: 0.8713 - precision: 0.9764 - recall: 0.7268 - val_loss: 0.3096 - val_auc: 0.8080 - val_precision: 0.9394 - val_recall: 0.7045\n",
            "Epoch 27/100\n",
            "226/226 [==============================] - 2s 7ms/step - loss: 0.1430 - auc: 0.8693 - precision: 0.9575 - recall: 0.7343 - val_loss: 0.2899 - val_auc: 0.8404 - val_precision: 0.9189 - val_recall: 0.7727\n",
            "Epoch 28/100\n",
            "226/226 [==============================] - 2s 7ms/step - loss: 0.1294 - auc: 0.8842 - precision: 0.9708 - recall: 0.7494 - val_loss: 0.3644 - val_auc: 0.7724 - val_precision: 0.9375 - val_recall: 0.6818\n",
            "Epoch 29/100\n",
            "226/226 [==============================] - 2s 7ms/step - loss: 0.1387 - auc: 0.8728 - precision: 0.9579 - recall: 0.7419 - val_loss: 0.2994 - val_auc: 0.8139 - val_precision: 0.9412 - val_recall: 0.7273\n",
            "Epoch 30/100\n",
            "226/226 [==============================] - 2s 7ms/step - loss: 0.1274 - auc: 0.8891 - precision: 0.9805 - recall: 0.7544 - val_loss: 0.2768 - val_auc: 0.8446 - val_precision: 0.9412 - val_recall: 0.7273\n",
            "Epoch 31/100\n",
            "226/226 [==============================] - 2s 7ms/step - loss: 0.1158 - auc: 0.8957 - precision: 0.9807 - recall: 0.7644 - val_loss: 0.3352 - val_auc: 0.8028 - val_precision: 0.9394 - val_recall: 0.7045\n",
            "Epoch 32/100\n",
            "226/226 [==============================] - 2s 8ms/step - loss: 0.1187 - auc: 0.8926 - precision: 0.9742 - recall: 0.7569 - val_loss: 0.2767 - val_auc: 0.8395 - val_precision: 0.9412 - val_recall: 0.7273\n",
            "Epoch 33/100\n",
            "226/226 [==============================] - 2s 7ms/step - loss: 0.1094 - auc: 0.9007 - precision: 0.9712 - recall: 0.7619 - val_loss: 0.3555 - val_auc: 0.7970 - val_precision: 0.9655 - val_recall: 0.6364\n",
            "Epoch 34/100\n",
            "226/226 [==============================] - 2s 8ms/step - loss: 0.1065 - auc: 0.9040 - precision: 0.9740 - recall: 0.7519 - val_loss: 0.2817 - val_auc: 0.8477 - val_precision: 0.8750 - val_recall: 0.7955\n",
            "Epoch 35/100\n",
            "226/226 [==============================] - 2s 7ms/step - loss: 0.1142 - auc: 0.8965 - precision: 0.9737 - recall: 0.7419 - val_loss: 0.3005 - val_auc: 0.8417 - val_precision: 0.8500 - val_recall: 0.7727\n",
            "Epoch 36/100\n",
            "226/226 [==============================] - 2s 7ms/step - loss: 0.1009 - auc: 0.9104 - precision: 0.9806 - recall: 0.7619 - val_loss: 0.2756 - val_auc: 0.8476 - val_precision: 0.9211 - val_recall: 0.7955\n",
            "Epoch 37/100\n",
            "226/226 [==============================] - 2s 7ms/step - loss: 0.1091 - auc: 0.9040 - precision: 0.9651 - recall: 0.7619 - val_loss: 0.2767 - val_auc: 0.8419 - val_precision: 0.9211 - val_recall: 0.7955\n",
            "Epoch 38/100\n",
            "226/226 [==============================] - 2s 7ms/step - loss: 0.0919 - auc: 0.9214 - precision: 0.9904 - recall: 0.7794 - val_loss: 0.2724 - val_auc: 0.8537 - val_precision: 0.9250 - val_recall: 0.8409\n",
            "Epoch 39/100\n",
            "226/226 [==============================] - 2s 7ms/step - loss: 0.0896 - auc: 0.9231 - precision: 0.9751 - recall: 0.7845 - val_loss: 0.2729 - val_auc: 0.8499 - val_precision: 0.9250 - val_recall: 0.8409\n",
            "Epoch 40/100\n",
            "226/226 [==============================] - 2s 7ms/step - loss: 0.0866 - auc: 0.9271 - precision: 0.9812 - recall: 0.7870 - val_loss: 0.3489 - val_auc: 0.8002 - val_precision: 0.9429 - val_recall: 0.7500\n",
            "Epoch 41/100\n",
            "226/226 [==============================] - 2s 7ms/step - loss: 0.0866 - auc: 0.9273 - precision: 0.9777 - recall: 0.7694 - val_loss: 0.2858 - val_auc: 0.8326 - val_precision: 0.9429 - val_recall: 0.7500\n",
            "Epoch 42/100\n",
            "226/226 [==============================] - 2s 8ms/step - loss: 0.0903 - auc: 0.9237 - precision: 0.9842 - recall: 0.7794 - val_loss: 0.2762 - val_auc: 0.8482 - val_precision: 0.9231 - val_recall: 0.8182\n",
            "Epoch 43/100\n",
            "226/226 [==============================] - 2s 8ms/step - loss: 0.0795 - auc: 0.9337 - precision: 0.9816 - recall: 0.8020 - val_loss: 0.3829 - val_auc: 0.7846 - val_precision: 0.9412 - val_recall: 0.7273\n",
            "Epoch 44/100\n",
            "226/226 [==============================] - 2s 7ms/step - loss: 0.1080 - auc: 0.9106 - precision: 0.9747 - recall: 0.7719 - val_loss: 0.3080 - val_auc: 0.8338 - val_precision: 0.9211 - val_recall: 0.7955\n",
            "Epoch 45/100\n",
            "226/226 [==============================] - 2s 7ms/step - loss: 0.0784 - auc: 0.9370 - precision: 0.9749 - recall: 0.7794 - val_loss: 0.3114 - val_auc: 0.8139 - val_precision: 0.9211 - val_recall: 0.7955\n",
            "Epoch 46/100\n",
            "226/226 [==============================] - 2s 7ms/step - loss: 0.0757 - auc: 0.9410 - precision: 0.9845 - recall: 0.7970 - val_loss: 0.2805 - val_auc: 0.8508 - val_precision: 0.9231 - val_recall: 0.8182\n",
            "Epoch 47/100\n",
            "226/226 [==============================] - 2s 7ms/step - loss: 0.0709 - auc: 0.9451 - precision: 0.9876 - recall: 0.7995 - val_loss: 0.2887 - val_auc: 0.8487 - val_precision: 0.9231 - val_recall: 0.8182\n",
            "Epoch 48/100\n",
            "226/226 [==============================] - 2s 7ms/step - loss: 0.0702 - auc: 0.9442 - precision: 0.9817 - recall: 0.8070 - val_loss: 0.2933 - val_auc: 0.8427 - val_precision: 0.9211 - val_recall: 0.7955\n",
            "Epoch 49/100\n",
            "226/226 [==============================] - 2s 7ms/step - loss: 0.0686 - auc: 0.9477 - precision: 0.9876 - recall: 0.7970 - val_loss: 0.2915 - val_auc: 0.8539 - val_precision: 0.9250 - val_recall: 0.8409\n",
            "Epoch 50/100\n",
            "226/226 [==============================] - 2s 8ms/step - loss: 0.0794 - auc: 0.9393 - precision: 0.9783 - recall: 0.7920 - val_loss: 0.3471 - val_auc: 0.7952 - val_precision: 0.8919 - val_recall: 0.7500\n",
            "Epoch 51/100\n",
            "226/226 [==============================] - 2s 8ms/step - loss: 0.0653 - auc: 0.9510 - precision: 0.9938 - recall: 0.8045 - val_loss: 0.2982 - val_auc: 0.8479 - val_precision: 0.9231 - val_recall: 0.8182\n",
            "Epoch 52/100\n",
            "226/226 [==============================] - 2s 8ms/step - loss: 0.0625 - auc: 0.9551 - precision: 0.9880 - recall: 0.8221 - val_loss: 0.3553 - val_auc: 0.8028 - val_precision: 0.9429 - val_recall: 0.7500\n",
            "Epoch 53/100\n",
            "226/226 [==============================] - 2s 7ms/step - loss: 0.0807 - auc: 0.9398 - precision: 0.9814 - recall: 0.7945 - val_loss: 0.3623 - val_auc: 0.8079 - val_precision: 0.9459 - val_recall: 0.7955\n",
            "Epoch 54/100\n",
            "226/226 [==============================] - 2s 8ms/step - loss: 0.0636 - auc: 0.9559 - precision: 0.9908 - recall: 0.8120 - val_loss: 0.3059 - val_auc: 0.8399 - val_precision: 0.9189 - val_recall: 0.7727\n",
            "Epoch 55/100\n",
            "226/226 [==============================] - 2s 8ms/step - loss: 0.0572 - auc: 0.9608 - precision: 0.9909 - recall: 0.8170 - val_loss: 0.3123 - val_auc: 0.8237 - val_precision: 0.9211 - val_recall: 0.7955\n",
            "Epoch 56/100\n",
            "226/226 [==============================] - 2s 7ms/step - loss: 0.0579 - auc: 0.9600 - precision: 0.9851 - recall: 0.8271 - val_loss: 0.3034 - val_auc: 0.8416 - val_precision: 0.9211 - val_recall: 0.7955\n",
            "Epoch 57/100\n",
            "226/226 [==============================] - 2s 7ms/step - loss: 0.0529 - auc: 0.9652 - precision: 0.9910 - recall: 0.8296 - val_loss: 0.2964 - val_auc: 0.8564 - val_precision: 0.9487 - val_recall: 0.8409\n",
            "Epoch 58/100\n",
            "226/226 [==============================] - 2s 8ms/step - loss: 0.0603 - auc: 0.9595 - precision: 0.9847 - recall: 0.8070 - val_loss: 0.2867 - val_auc: 0.8534 - val_precision: 0.9474 - val_recall: 0.8182\n",
            "\n",
            "Epoch 00058: ReduceLROnPlateau reducing learning rate to 9.999999747378752e-06.\n",
            "CPU times: user 2min 1s, sys: 17.3 s, total: 2min 19s\n",
            "Wall time: 1min 40s\n"
          ]
        }
      ],
      "source": [
        "%%time\n",
        "\n",
        "\"\"\"Note that batch_size is unusualy high becasue we want to make sure  in each\n",
        "batch there are some Fradulant cases to learn.\"\"\"\n",
        "\n",
        "train_history = model.fit(X_train, y_train, batch_size=1024, epochs=100,\n",
        "                          shuffle= True, validation_data=(X_val,y_val),\n",
        "                          callbacks=callbacks)"
      ]
    },
    {
      "cell_type": "code",
      "execution_count": 10,
      "metadata": {
        "id": "6CES_pS9Lqh6"
      },
      "outputs": [],
      "source": [
        "def plot_train_history(train_history):\n",
        "  fig, axs = plt.subplots(1,2, figsize=(20,8))\n",
        "  axs[0].plot(train_history.history['loss'])\n",
        "  axs[0].plot(train_history.history['val_loss'])\n",
        "  axs[0].set_title(\"Model Training and Testing loss:\")\n",
        "  axs[0].set_xlabel(\"Epoch\")\n",
        "  axs[0].set_ylabel(\"loss\")\n",
        "  axs[0].legend(['Train', \"Val\"])\n",
        "  \n",
        "  axs[1].plot(train_history.history['auc'])\n",
        "  axs[1].plot(train_history.history['val_auc'])\n",
        "  axs[1].set_title(\"AUC-Precision-Recall-curve Training and Testing:\")\n",
        "  axs[1].set_xlabel(\"Epoch\")\n",
        "  axs[1].set_ylabel(\"AUC-PR\")\n",
        "  axs[1].legend(['Train', \"Val\"])"
      ]
    },
    {
      "cell_type": "code",
      "execution_count": 11,
      "metadata": {
        "colab": {
          "base_uri": "https://localhost:8080/",
          "height": 374
        },
        "id": "P5J69DFMd_dV",
        "outputId": "a95324d2-ba4c-4a23-c059-a8b89b18ff97"
      },
      "outputs": [
        {
          "data": {
            "image/png": "[encoded data removed]",
            "text/plain": [
              "<Figure size 1440x576 with 2 Axes>"
            ]
          },
          "metadata": {
            "needs_background": "light"
          },
          "output_type": "display_data"
        }
      ],
      "source": [
        "plot_train_history(train_history)"
      ]
    },
    {
      "cell_type": "code",
      "execution_count": 12,
      "metadata": {
        "colab": {
          "base_uri": "https://localhost:8080/"
        },
        "id": "SLXk0h29eBrp",
        "outputId": "765f80fc-6b26-4bcf-cef7-787f1b05242a"
      },
      "outputs": [
        {
          "name": "stdout",
          "output_type": "stream",
          "text": [
            "7210/7210 [==============================] - 39s 5ms/step - loss: 0.0028 - auc: 0.9264 - precision: 0.9759 - recall: 0.8120\n",
            "Train AUC-PR: 0.9264253377914429\n",
            "Train Precission:  0.9759036302566528\n",
            "Train Recall:  0.8120300769805908\n",
            "Train F1 score:  0.8864569159306025\n"
          ]
        }
      ],
      "source": [
        "train_loss, train_aucpr, train_pre, train_recall = model.evaluate(X_train, y_train)\n",
        "print(\"Train AUC-PR:\", train_aucpr)\n",
        "print(\"Train Precission: \", train_pre)\n",
        "print(\"Train Recall: \", train_recall)\n",
        "print(\"Train F1 score: \", 2*((train_pre*train_recall)/(train_pre+train_recall)) )"
      ]
    },
    {
      "cell_type": "code",
      "execution_count": 13,
      "metadata": {
        "colab": {
          "base_uri": "https://localhost:8080/"
        },
        "id": "X-aO3OhLmTq7",
        "outputId": "6c8fa7fb-b444-4d24-afa1-4bcd97d2514c"
      },
      "outputs": [
        {
          "name": "stdout",
          "output_type": "stream",
          "text": [
            "891/891 [==============================] - 5s 5ms/step - loss: 0.0068 - auc: 0.8252 - precision: 0.9500 - recall: 0.7755\n",
            "Test AUC-PR: 0.8252214789390564\n",
            "Test Precission:  0.949999988079071\n",
            "Test Recall:  0.7755101919174194\n",
            "Test F1 score:  0.8539325720793429\n"
          ]
        }
      ],
      "source": [
        "test_loss, test_aucpr, test_pre, test_recall = model.evaluate(X_test, y_test)\n",
        "print(\"Test AUC-PR:\", test_aucpr)\n",
        "print(\"Test Precission: \", test_pre)\n",
        "print(\"Test Recall: \", test_recall)\n",
        "print(\"Test F1 score: \", 2*((test_pre*test_recall)/(test_pre+test_recall)) )"
      ]
    },
    {
      "cell_type": "code",
      "execution_count": 14,
      "metadata": {
        "colab": {
          "base_uri": "https://localhost:8080/",
          "height": 311
        },
        "id": "ZMqJ7X01nD1B",
        "outputId": "7b72c7f3-de76-4c58-ae3c-c7ec6f09ca17"
      },
      "outputs": [
        {
          "data": {
            "text/plain": [
              "Text(0.5, 0.98, 'Confusion Matrix of Test data')"
            ]
          },
          "execution_count": 14,
          "metadata": {},
          "output_type": "execute_result"
        },
        {
          "data": {
            "image/png": "[encoded data removed]",
            "text/plain": [
              "<Figure size 432x288 with 2 Axes>"
            ]
          },
          "metadata": {
            "needs_background": "light"
          },
          "output_type": "display_data"
        }
      ],
      "source": [
        "y_pred_test = model.predict(X_test) >= 0.5\n",
        "\n",
        "cMatrix = confusion_matrix(y_true=y_test,y_pred=y_pred_test)\n",
        "classes = (\"Not Fraud\", \"Fraud\")\n",
        "ax = sns.heatmap(cMatrix,annot=True,fmt=\"d\",xticklabels=classes,\n",
        "                 yticklabels=classes)\n",
        "plt.suptitle('Confusion Matrix of Test data')"
      ]
    },
    {
      "cell_type": "code",
      "execution_count": 15,
      "metadata": {
        "id": "XnwXF2cD7F4M"
      },
      "outputs": [],
      "source": [
        "model.save('credit_card_fraud_detect.h5')"
      ]
    }
  ],
  "metadata": {
    "accelerator": "GPU",
    "colab": {
      "collapsed_sections": [],
      "name": "NN_ccard_fraud_predict.ipynb",
      "provenance": []
    },
    "kernelspec": {
      "display_name": "Python 3",
      "language": "python",
      "name": "python3"
    },
    "language_info": {
      "codemirror_mode": {
        "name": "ipython",
        "version": 3
      },
      "file_extension": ".py",
      "mimetype": "text/x-python",
      "name": "python",
      "nbconvert_exporter": "python",
      "pygments_lexer": "ipython3",
      "version": "3.6.9"
    }
  },
  "nbformat": 4,
  "nbformat_minor": 0
}
