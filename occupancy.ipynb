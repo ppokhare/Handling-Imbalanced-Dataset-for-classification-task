{
 "cells": [
  {
   "cell_type": "code",
   "execution_count": 1,
   "metadata": {},
   "outputs": [],
   "source": [
    "import pandas as pd\n",
    "import numpy as np\n",
    "import matplotlib.pyplot as plt\n",
    "import string\n",
    "import re\n",
    "import seaborn as sns\n",
    "import time\n",
    "\n",
    "from IPython.display import display, HTML\n",
    "import warnings\n",
    "warnings.filterwarnings('ignore')\n",
    "\n",
    "#for scaling the data\n",
    "from sklearn.preprocessing import RobustScaler\n",
    "#for oversampling to create a balanced train set\n",
    "from sklearn.utils import resample\n",
    "#for spliting data into traning and testing\n",
    "from sklearn.model_selection import train_test_split\n",
    "\n",
    "#for Logistic Regression\n",
    "from sklearn.linear_model import LogisticRegression\n",
    "#for Support Vector Machine\n",
    "from sklearn.svm import SVC\n",
    "#for KNN\n",
    "from sklearn.neighbors import KNeighborsClassifier\n",
    "#for decision tree\n",
    "from sklearn.tree import DecisionTreeClassifier\n",
    "#for random forest and boosting\n",
    "from sklearn.ensemble import RandomForestClassifier, AdaBoostClassifier\n",
    "\n",
    "#for metrics\n",
    "from sklearn.metrics import f1_score\n",
    "#from sklearn.metrics import accuracy_score, roc_auc_score,f1_score, precision_score, recall_score,classification_report,confusion_matrix\n",
    "\n",
    "#PCA for Dimension Reduction\n",
    "from sklearn.decomposition import PCA\n",
    "\n",
    "#to perform cross validation\n",
    "from sklearn.model_selection import GridSearchCV"
   ]
  },
  {
   "cell_type": "markdown",
   "metadata": {},
   "source": [
    "# Getting the sense of data"
   ]
  },
  {
   "cell_type": "code",
   "execution_count": 2,
   "metadata": {},
   "outputs": [
    {
     "name": "stdout",
     "output_type": "stream",
     "text": [
      "<class 'pandas.core.frame.DataFrame'>\n",
      "Int64Index: 20560 entries, 1 to 2804\n",
      "Data columns (total 6 columns):\n",
      "Temperature      20560 non-null float64\n",
      "Humidity         20560 non-null float64\n",
      "Light            20560 non-null float64\n",
      "CO2              20560 non-null float64\n",
      "HumidityRatio    20560 non-null float64\n",
      "Occupancy        20560 non-null int64\n",
      "dtypes: float64(5), int64(1)\n",
      "memory usage: 1.1 MB\n"
     ]
    }
   ],
   "source": [
    "#Load the data\n",
    "df1 = pd.read_csv('datatest.txt',delimiter=\",\")\n",
    "df2 = pd.read_csv('datatest2.txt',delimiter=\",\")\n",
    "df3 = pd.read_csv('datatraining.txt',delimiter=\",\")\n",
    "df = [df3,df2,df1]\n",
    "df = pd.concat(df)\n",
    "df = df.drop(\"date\",1)\n",
    "df.info()"
   ]
  },
  {
   "cell_type": "code",
   "execution_count": 3,
   "metadata": {},
   "outputs": [
    {
     "name": "stdout",
     "output_type": "stream",
     "text": [
      "4750\n",
      "15810\n"
     ]
    }
   ],
   "source": [
    "print(df[\"Occupancy\"].value_counts()[1])\n",
    "print(df[\"Occupancy\"].value_counts()[0])"
   ]
  },
  {
   "cell_type": "code",
   "execution_count": 4,
   "metadata": {},
   "outputs": [
    {
     "name": "stdout",
     "output_type": "stream",
     "text": [
      "Occupited status: 23.103112840466927 %\n",
      "Not occupited status: 76.89688715953308 %\n"
     ]
    },
    {
     "data": {
      "text/plain": [
       "Text(0.5, 1.0, 'Actual Raw Data: Very unbalanced')"
      ]
     },
     "execution_count": 4,
     "metadata": {},
     "output_type": "execute_result"
    },
    {
     "data": {
      "image/png": "[encoded data removed]",
      "text/plain": [
       "<Figure size 432x288 with 1 Axes>"
      ]
     },
     "metadata": {
      "needs_background": "light"
     },
     "output_type": "display_data"
    }
   ],
   "source": [
    "occupied = (df[\"Occupancy\"].value_counts()[1]/len(df))*100\n",
    "not_occupied = (df[\"Occupancy\"].value_counts()[0]/len(df))*100\n",
    "\n",
    "print(\"Occupited status:\",occupied,\"%\")\n",
    "print(\"Not occupited status:\", not_occupied,\"%\")\n",
    "\n",
    "#frequency graph of unbalaced data\n",
    "sns.countplot(\"Occupancy\",data=df).set_title('Actual Raw Data: Very unbalanced')"
   ]
  },
  {
   "cell_type": "markdown",
   "metadata": {},
   "source": [
    "We can see how unbalanced our data is. There are very low number of occupied status class incompare to not occupied class (4750 VS 15810) Most of the out box classifiers from Scikit-Learn are designed to minimize error loss function (which will maximize accuracy. If we have our classifier to just classify everything to 0, then we can easily obtain the accuracy of than 76.89% but that's not a faithful. So, we have to use different robust metrics like F-score and introduce bias in samlping process."
   ]
  },
  {
   "cell_type": "markdown",
   "metadata": {},
   "source": [
    "# Data Preparation"
   ]
  },
  {
   "cell_type": "code",
   "execution_count": 5,
   "metadata": {},
   "outputs": [],
   "source": [
    "#get X and Y vector\n",
    "X = df.drop(\"Occupancy\",1)\n",
    "Y = df[\"Occupancy\"]"
   ]
  },
  {
   "cell_type": "markdown",
   "metadata": {},
   "source": [
    "# Resampling Techniques: Oversampling\n",
    "Here we are going to oversample the least occuring class which is occupied status class. \n",
    "Oversampling introducing a bais to select more samples from occupied status class than from not occupied status class. This is done to compensate for an imblanced in the dataset. "
   ]
  },
  {
   "cell_type": "code",
   "execution_count": 6,
   "metadata": {},
   "outputs": [],
   "source": [
    "def oversample(X_train,Y_train):\n",
    "    #now add training set back together\n",
    "    X = pd.concat([X_train,Y_train],1)\n",
    "    #print(train_concat[\"class\"])\n",
    "\n",
    "    #seperate non-pulsar and pulsar class\n",
    "    occupied = X[X[\"Occupancy\"] == 1]\n",
    "    not_occupied  = X[X[\"Occupancy\"] == 0]\n",
    "\n",
    "    #use resample to create 283823 \"fake/duplicate\"  data\n",
    "    occupiedResampled = resample(occupied, replace = True, n_samples = len(not_occupied))\n",
    "\n",
    "    allResampled = pd.concat([not_occupied,occupiedResampled])\n",
    "    #print(allResampled.shape)\n",
    "\n",
    "    #training set ready after resampling\n",
    "    X_train = allResampled.drop(\"Occupancy\",1)\n",
    "    Y_train = allResampled[\"Occupancy\"]\n",
    "\n",
    "    #frequency graph of unbalaced data\n",
    "    #sns.countplot(\"Class\",data=allResampled).set_title('training set after oversampling')\n",
    "\n",
    "    return X_train,Y_train"
   ]
  },
  {
   "cell_type": "markdown",
   "metadata": {},
   "source": [
    "Our training set looks much balanced now after oversampling occupied status class!!"
   ]
  },
  {
   "cell_type": "markdown",
   "metadata": {},
   "source": [
    "# Hyperparamaters"
   ]
  },
  {
   "cell_type": "code",
   "execution_count": 7,
   "metadata": {},
   "outputs": [],
   "source": [
    "#for log Reg\n",
    "Penalty_list = [ 'l1', 'l2']\n",
    "C_list = [0.001, 0.01, 0.1, 1, 10, 100, 1000]\n",
    "logReg_param_grid = {'penalty': Penalty_list, 'C': C_list}\n",
    "\n",
    "#for SVM\n",
    "C_list = [0.001, 0.01, 0.1, 1, 10, 100, 1000]\n",
    "Gamma_list = [1e-6,1e-5,1e-4,1e-3,1e-2]\n",
    "Kernel_list= ['linear', 'rbf', 'poly', 'sigmoid']\n",
    "svm_param_grid = {'C':C_list, 'kernel': Kernel_list, 'gamma' : Gamma_list}\n",
    "\n",
    "#KNN \n",
    "K_list = [1, 3, 5, 7, 9]\n",
    "Algorithm_list = ['auto', 'ball_tree', 'kd_tree', 'brute']\n",
    "knn_param_grid = {'n_neighbors': K_list, 'algorithm': Algorithm_list}\n",
    "\n",
    "#Decision Tree \n",
    "Criterion_list = ['gini', 'entropy']\n",
    "D_list = [1,2,3,4,5]\n",
    "decisionTree_param_grid = {'max_depth': D_list, 'criterion': Criterion_list}\n",
    "\n",
    "#Random Forest \n",
    "numberOfTree_list = [5,10,50,100,500,1000,5000,10000]\n",
    "Criterion_list = ['gini', 'entropy']\n",
    "randomForest_param_grid = {'n_estimators': numberOfTree_list, 'criterion': Criterion_list}\n",
    "\n",
    "#AdaBoost\n",
    "n_estimators_list = [10,50,100,500]\n",
    "learningRate_list = [0.0001,0.001,0.01,0.1,1.0]\n",
    "adaBoost_param_grid = {'n_estimators': n_estimators_list, 'learning_rate': learningRate_list}"
   ]
  },
  {
   "cell_type": "markdown",
   "metadata": {},
   "source": [
    "# Prepare models"
   ]
  },
  {
   "cell_type": "code",
   "execution_count": 8,
   "metadata": {},
   "outputs": [],
   "source": [
    "#prepare models\n",
    "# models = [id name, classifier, hypermater of the classifier for Cross Validation]\n",
    "models = []\n",
    "models.append(('Logistic Regression', LogisticRegression(),logReg_param_grid))\n",
    "models.append(('K-nearest Neighbors', KNeighborsClassifier(),knn_param_grid ))\n",
    "models.append(('Decision Tree', DecisionTreeClassifier(),decisionTree_param_grid))\n",
    "models.append(('Random Forest', RandomForestClassifier(),randomForest_param_grid))\n",
    "models.append(('AdaBoost', AdaBoostClassifier(),adaBoost_param_grid))\n",
    "models.append(('Support Vector Machine', SVC(max_iter = 10000),svm_param_grid ))\n",
    "#print(models)"
   ]
  },
  {
   "cell_type": "code",
   "execution_count": 9,
   "metadata": {},
   "outputs": [
    {
     "name": "stdout",
     "output_type": "stream",
     "text": [
      "CPU times: user 8 µs, sys: 0 ns, total: 8 µs\n",
      "Wall time: 14.5 µs\n"
     ]
    }
   ],
   "source": [
    "%%time \n",
    "def train_model(result,name,model,hyperparam):\n",
    "    \n",
    "    trainingErrorForRepeats = []\n",
    "    testingErrorForRepeats = []\n",
    "    #run 3 times and obtain mean and standard devation of training/testing error\n",
    "    for repeat in range(3):\n",
    "        #find optimal combination of hyperaramaters\n",
    "        grid_search = GridSearchCV(estimator=model,param_grid=hyperparam,cv=5)\n",
    "        grid_search.fit(X_train,Y_train)\n",
    "        \n",
    "        #Find optimal hyper-paramater\n",
    "        best_hyperparam = grid_search.best_params_\n",
    "    \n",
    "        #trainng f1 score\n",
    "        y_prediction_train = grid_search.best_estimator_.predict(X_train)\n",
    "        train_error_f1 = f1_score(Y_train,y_prediction_train)\n",
    "       \n",
    "        #testing f1 score\n",
    "        y_prediction_test = grid_search.best_estimator_.predict(X_test)\n",
    "        test_error_f1 = f1_score(Y_test,y_prediction_test)\n",
    "        \n",
    "        trainingErrorForRepeats.append(train_error_f1)\n",
    "        testingErrorForRepeats.append(test_error_f1)\n",
    "        \n",
    "    trainMean = np.mean(trainingErrorForRepeats)\n",
    "    trainMean = round((trainMean*100),2)\n",
    "    trainStd = np.std(trainingErrorForRepeats)\n",
    "    trainStd = round((trainStd*100),2)\n",
    "    trainError = str(trainMean) + u\"\\u00B1\"+ str(trainStd)\n",
    "   \n",
    "    testMean = np.mean(testingErrorForRepeats)\n",
    "    testMean = round((testMean*100),2)\n",
    "    testStd = np.std(testingErrorForRepeats)\n",
    "    testStd = round((testStd*100),2)\n",
    "    testError = str(testMean) + u\"\\u00B1\"+ str(testStd)\n",
    "    \n",
    "    #toAdd = [name, best_hyperparam, train_error, test_error]\n",
    "    toAdd = [name, best_hyperparam, trainError, testError]\n",
    "    result.append(toAdd)"
   ]
  },
  {
   "cell_type": "code",
   "execution_count": 10,
   "metadata": {},
   "outputs": [
    {
     "name": "stdout",
     "output_type": "stream",
     "text": [
      "now training  Logistic Regression in train size 0.2\n",
      "Logistic Regression  done in  12.657613999999999\n",
      "now training  K-nearest Neighbors in train size 0.2\n",
      "K-nearest Neighbors  done in  133.67795999999998\n",
      "now training  Decision Tree in train size 0.2\n",
      "Decision Tree  done in  1.3222230000000081\n",
      "now training  Random Forest in train size 0.2\n",
      "Random Forest  done in  1849.746318\n",
      "now training  AdaBoost in train size 0.2\n",
      "AdaBoost  done in  193.8849949999999\n",
      "now training  Support Vector Machine in train size 0.2\n",
      "Support Vector Machine  done in  792.7342350000004\n",
      "now training  Logistic Regression in train size 0.8\n",
      "Logistic Regression  done in  314.0893109999997\n",
      "now training  K-nearest Neighbors in train size 0.8\n",
      "K-nearest Neighbors  done in  459.71445300000005\n",
      "now training  Decision Tree in train size 0.8\n",
      "Decision Tree  done in  3.503157999999985\n",
      "now training  Random Forest in train size 0.8\n",
      "Random Forest  done in  7916.599225999999\n",
      "now training  AdaBoost in train size 0.8\n",
      "AdaBoost  done in  596.9992629999997\n",
      "now training  Support Vector Machine in train size 0.8\n",
      "Support Vector Machine  done in  8529.875168000002\n"
     ]
    }
   ],
   "source": [
    "#REAL MEAT\n",
    "\n",
    "#Split it into train and test\n",
    "train_size = [0.2,0.8]\n",
    "#results\n",
    "result = []\n",
    "for size in train_size:\n",
    "    X_train, X_test, Y_train, Y_test = train_test_split(X,Y, train_size=size)\n",
    "    X_train, Y_train = oversample(X_train,Y_train)\n",
    "    for name, model, hyperparam in models:\n",
    "        print(\"now training \" , name,\"in train size\", size)\n",
    "        start = time.clock()\n",
    "        train_model(result,name,model,hyperparam)\n",
    "        end = time.clock()\n",
    "        print(name, \" done in \", end-start)"
   ]
  },
  {
   "cell_type": "code",
   "execution_count": 11,
   "metadata": {},
   "outputs": [
    {
     "name": "stdout",
     "output_type": "stream",
     "text": [
      "[['Logistic Regression', {'C': 0.1, 'penalty': 'l1'}, '99.13±0.0', '97.4±0.01'], ['K-nearest Neighbors', {'algorithm': 'auto', 'n_neighbors': 1}, '100.0±0.0', '96.53±0.0'], ['Decision Tree', {'criterion': 'gini', 'max_depth': 4}, '99.51±0.0', '97.62±0.01'], ['Random Forest', {'criterion': 'entropy', 'n_estimators': 10}, '99.95±0.04', '97.69±0.03'], ['AdaBoost', {'learning_rate': 1.0, 'n_estimators': 500}, '100.0±0.0', '97.32±0.0'], ['Support Vector Machine', {'C': 100, 'gamma': 0.001, 'kernel': 'rbf'}, '99.84±0.0', '96.49±0.0'], ['Logistic Regression', {'C': 0.01, 'penalty': 'l1'}, '99.19±0.0', '97.11±0.0'], ['K-nearest Neighbors', {'algorithm': 'auto', 'n_neighbors': 1}, '100.0±0.0', '97.15±0.0'], ['Decision Tree', {'criterion': 'entropy', 'max_depth': 5}, '99.4±0.0', '97.14±0.0'], ['Random Forest', {'criterion': 'entropy', 'n_estimators': 100}, '100.0±0.0', '98.24±0.09'], ['AdaBoost', {'learning_rate': 1.0, 'n_estimators': 500}, '99.31±0.0', '97.2±0.0'], ['Support Vector Machine', {'C': 1000, 'gamma': 0.001, 'kernel': 'rbf'}, '99.8±0.0', '97.11±0.0']]\n"
     ]
    }
   ],
   "source": [
    "print(result)"
   ]
  },
  {
   "cell_type": "code",
   "execution_count": 12,
   "metadata": {},
   "outputs": [],
   "source": [
    "def pretty_print(df):\n",
    "    return display(HTML(df.to_html().replace(\"\\\\n\",\"<br>\")))"
   ]
  },
  {
   "cell_type": "code",
   "execution_count": 13,
   "metadata": {},
   "outputs": [
    {
     "name": "stdout",
     "output_type": "stream",
     "text": [
      "training size: 20%\n"
     ]
    },
    {
     "data": {
      "text/html": [
       "<table border=\"1\" class=\"dataframe\">\n",
       "  <thead>\n",
       "    <tr style=\"text-align: right;\">\n",
       "      <th></th>\n",
       "      <th>Classifier</th>\n",
       "      <th>Optimal Hyper-paramater</th>\n",
       "      <th>Training F1 SCore</th>\n",
       "      <th>Testing F1 Score</th>\n",
       "    </tr>\n",
       "  </thead>\n",
       "  <tbody>\n",
       "    <tr>\n",
       "      <th>0</th>\n",
       "      <td>Logistic Regression</td>\n",
       "      <td>{'C': 0.1, 'penalty': 'l1'}</td>\n",
       "      <td>99.13±0.0</td>\n",
       "      <td>97.4±0.01</td>\n",
       "    </tr>\n",
       "    <tr>\n",
       "      <th>1</th>\n",
       "      <td>K-nearest Neighbors</td>\n",
       "      <td>{'algorithm': 'auto', 'n_neighbors': 1}</td>\n",
       "      <td>100.0±0.0</td>\n",
       "      <td>96.53±0.0</td>\n",
       "    </tr>\n",
       "    <tr>\n",
       "      <th>2</th>\n",
       "      <td>Decision Tree</td>\n",
       "      <td>{'criterion': 'gini', 'max_depth': 4}</td>\n",
       "      <td>99.51±0.0</td>\n",
       "      <td>97.62±0.01</td>\n",
       "    </tr>\n",
       "    <tr>\n",
       "      <th>3</th>\n",
       "      <td>Random Forest</td>\n",
       "      <td>{'criterion': 'entropy', 'n_estimators': 10}</td>\n",
       "      <td>99.95±0.04</td>\n",
       "      <td>97.69±0.03</td>\n",
       "    </tr>\n",
       "    <tr>\n",
       "      <th>4</th>\n",
       "      <td>AdaBoost</td>\n",
       "      <td>{'learning_rate': 1.0, 'n_estimators': 500}</td>\n",
       "      <td>100.0±0.0</td>\n",
       "      <td>97.32±0.0</td>\n",
       "    </tr>\n",
       "    <tr>\n",
       "      <th>5</th>\n",
       "      <td>Support Vector Machine</td>\n",
       "      <td>{'C': 100, 'gamma': 0.001, 'kernel': 'rbf'}</td>\n",
       "      <td>99.84±0.0</td>\n",
       "      <td>96.49±0.0</td>\n",
       "    </tr>\n",
       "  </tbody>\n",
       "</table>"
      ],
      "text/plain": [
       "<IPython.core.display.HTML object>"
      ]
     },
     "metadata": {},
     "output_type": "display_data"
    },
    {
     "name": "stdout",
     "output_type": "stream",
     "text": [
      "training size: 80%\n"
     ]
    },
    {
     "data": {
      "text/html": [
       "<table border=\"1\" class=\"dataframe\">\n",
       "  <thead>\n",
       "    <tr style=\"text-align: right;\">\n",
       "      <th></th>\n",
       "      <th>Classifier</th>\n",
       "      <th>Optimal Hyper-paramater</th>\n",
       "      <th>Training F1 SCore</th>\n",
       "      <th>Testing F1 Score</th>\n",
       "    </tr>\n",
       "  </thead>\n",
       "  <tbody>\n",
       "    <tr>\n",
       "      <th>6</th>\n",
       "      <td>Logistic Regression</td>\n",
       "      <td>{'C': 0.01, 'penalty': 'l1'}</td>\n",
       "      <td>99.19±0.0</td>\n",
       "      <td>97.11±0.0</td>\n",
       "    </tr>\n",
       "    <tr>\n",
       "      <th>7</th>\n",
       "      <td>K-nearest Neighbors</td>\n",
       "      <td>{'algorithm': 'auto', 'n_neighbors': 1}</td>\n",
       "      <td>100.0±0.0</td>\n",
       "      <td>97.15±0.0</td>\n",
       "    </tr>\n",
       "    <tr>\n",
       "      <th>8</th>\n",
       "      <td>Decision Tree</td>\n",
       "      <td>{'criterion': 'entropy', 'max_depth': 5}</td>\n",
       "      <td>99.4±0.0</td>\n",
       "      <td>97.14±0.0</td>\n",
       "    </tr>\n",
       "    <tr>\n",
       "      <th>9</th>\n",
       "      <td>Random Forest</td>\n",
       "      <td>{'criterion': 'entropy', 'n_estimators': 100}</td>\n",
       "      <td>100.0±0.0</td>\n",
       "      <td>98.24±0.09</td>\n",
       "    </tr>\n",
       "    <tr>\n",
       "      <th>10</th>\n",
       "      <td>AdaBoost</td>\n",
       "      <td>{'learning_rate': 1.0, 'n_estimators': 500}</td>\n",
       "      <td>99.31±0.0</td>\n",
       "      <td>97.2±0.0</td>\n",
       "    </tr>\n",
       "    <tr>\n",
       "      <th>11</th>\n",
       "      <td>Support Vector Machine</td>\n",
       "      <td>{'C': 1000, 'gamma': 0.001, 'kernel': 'rbf'}</td>\n",
       "      <td>99.8±0.0</td>\n",
       "      <td>97.11±0.0</td>\n",
       "    </tr>\n",
       "  </tbody>\n",
       "</table>"
      ],
      "text/plain": [
       "<IPython.core.display.HTML object>"
      ]
     },
     "metadata": {},
     "output_type": "display_data"
    }
   ],
   "source": [
    "#strip result into multiple based on what it refeers to\n",
    "\n",
    "modelNameResult = []\n",
    "bestHyperparamaterResult = []\n",
    "trainingErrorResult = []\n",
    "testingErrorResult = []\n",
    "\n",
    "for row in result:\n",
    "    modelNameResult.append(row[0])\n",
    "    bestHyperparamaterResult.append(row[1])\n",
    "    trainingErrorResult.append(row[2])\n",
    "    testingErrorResult.append(row[3])\n",
    "\n",
    "tempDataframe = pd.DataFrame({'Classifier':modelNameResult,\n",
    "                          'Optimal Hyper-paramater':bestHyperparamaterResult,\n",
    "                          'Training F1 SCore':trainingErrorResult,\n",
    "                          'Testing F1 Score':testingErrorResult })\n",
    "\n",
    "train20Dataframe = tempDataframe[0:6]\n",
    "train80Dataframe = tempDataframe[6:12]\n",
    "\n",
    "#pretty_print(tempDataframe)\n",
    "print(\"training size: 20%\")\n",
    "pretty_print(train20Dataframe)\n",
    "print(\"training size: 80%\")\n",
    "pretty_print(train80Dataframe)"
   ]
  },
  {
   "cell_type": "code",
   "execution_count": 14,
   "metadata": {},
   "outputs": [],
   "source": [
    "tempDataframe.to_csv('occupancy_final.csv')"
   ]
  },
  {
   "cell_type": "code",
   "execution_count": 15,
   "metadata": {},
   "outputs": [
    {
     "data": {
      "text/plain": [
       "(25318, 5)"
      ]
     },
     "execution_count": 15,
     "metadata": {},
     "output_type": "execute_result"
    }
   ],
   "source": [
    "X_train.shape"
   ]
  },
  {
   "cell_type": "code",
   "execution_count": null,
   "metadata": {},
   "outputs": [],
   "source": []
  },
  {
   "cell_type": "code",
   "execution_count": null,
   "metadata": {},
   "outputs": [],
   "source": []
  }
 ],
 "metadata": {
  "kernelspec": {
   "display_name": "Python 3",
   "language": "python",
   "name": "python3"
  },
  "language_info": {
   "codemirror_mode": {
    "name": "ipython",
    "version": 3
   },
   "file_extension": ".py",
   "mimetype": "text/x-python",
   "name": "python",
   "nbconvert_exporter": "python",
   "pygments_lexer": "ipython3",
   "version": "3.7.3"
  }
 },
 "nbformat": 4,
 "nbformat_minor": 2
}